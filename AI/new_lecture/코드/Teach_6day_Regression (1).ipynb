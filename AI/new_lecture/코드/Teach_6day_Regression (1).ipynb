{
 "cells": [
  {
   "cell_type": "markdown",
   "id": "49951840-5d0e-400e-b137-f73757a8e88d",
   "metadata": {},
   "source": [
    "# 필요한 패키지 import"
   ]
  },
  {
   "cell_type": "code",
   "execution_count": 1,
   "id": "4ee66c7f-4063-4722-a254-0ebb534c2ab0",
   "metadata": {},
   "outputs": [],
   "source": [
    "import numpy as np\n",
    "import pandas as pd"
   ]
  },
  {
   "cell_type": "code",
   "execution_count": 2,
   "id": "9a405780-9cf7-4483-96ee-00660c8ff326",
   "metadata": {},
   "outputs": [],
   "source": [
    "# Pandas Option 정의\n",
    "pd.set_option( 'display.max_columns', 20 )\n",
    "pd.set_option( 'display.max_colwidth', 20 )\n",
    "pd.set_option( 'display.unicode.east_asian_width', True )"
   ]
  },
  {
   "cell_type": "code",
   "execution_count": 3,
   "id": "91cac380-7381-4eaa-abb3-98bc3da91334",
   "metadata": {},
   "outputs": [],
   "source": [
    "import matplotlib.pyplot as plt\n",
    "import seaborn as sns"
   ]
  },
  {
   "cell_type": "code",
   "execution_count": 4,
   "id": "9525ac7d-ab4d-4adf-949e-6894085587d8",
   "metadata": {},
   "outputs": [],
   "source": [
    "%matplotlib inline\n",
    "\n",
    "# matplotlib 기본 글꼴 관련 설정\n",
    "plt.rc( 'font', size=14 )\n",
    "plt.rc( 'axes', labelsize=14, titlesize=14 )\n",
    "plt.rc( 'legend', fontsize=14 )\n",
    "plt.rc( 'xtick', labelsize=10 )\n",
    "plt.rc( 'ytick', labelsize=10 )"
   ]
  },
  {
   "cell_type": "code",
   "execution_count": 5,
   "id": "12462e25-6ff6-4d45-980e-dff27a35dbb8",
   "metadata": {},
   "outputs": [
    {
     "name": "stdout",
     "output_type": "stream",
     "text": [
      "debconf: DbDriver \"passwords\" warning: could not open /var/cache/debconf/passwords.dat: Permission denied\n",
      "debconf: DbDriver \"config\": could not write /var/cache/debconf/config.dat-new: Permission denied\n"
     ]
    }
   ],
   "source": [
    "# matplotlib 한글 출력을 위한 설정\n",
    "import sys\n",
    "\n",
    "!echo 'debconf debconf/frontend select Noninteractive' | debconf-set-selections\n",
    "\n",
    "# 나눔 폰트를 설치합니다.\n",
    "!sudo apt-get -qq -y install fonts-nanum\n",
    "import matplotlib.font_manager as fm\n",
    "font_files = fm.findSystemFonts(fontpaths=['/usr/share/fonts/truetype/nanum'])\n",
    "for fpath in font_files:\n",
    "    fm.fontManager.addfont(fpath)\n",
    "\n",
    "# 나눔바른고딕 폰트로 설정합니다.\n",
    "import matplotlib.pyplot as plt\n",
    "plt.rc('font', family='NanumBarunGothic')\n",
    "\n",
    "# 마이너스 기호 표시 오류 수정\n",
    "import matplotlib\n",
    "matplotlib.rcParams['axes.unicode_minus'] = False"
   ]
  },
  {
   "cell_type": "code",
   "execution_count": 6,
   "id": "ae96fd26-a9a3-4897-b0bf-ec843567b3df",
   "metadata": {},
   "outputs": [],
   "source": [
    "# 경고 문자 출력 제한\n",
    "import warnings\n",
    "\n",
    "warnings.filterwarnings( 'ignore' )"
   ]
  },
  {
   "cell_type": "code",
   "execution_count": 7,
   "id": "b288a5a0-dd81-4e0f-89d8-47b8e0d898c3",
   "metadata": {},
   "outputs": [
    {
     "name": "stderr",
     "output_type": "stream",
     "text": [
      "2024-09-10 02:26:02.835363: I external/local_xla/xla/tsl/cuda/cudart_stub.cc:32] Could not find cuda drivers on your machine, GPU will not be used.\n",
      "2024-09-10 02:26:02.842673: I external/local_xla/xla/tsl/cuda/cudart_stub.cc:32] Could not find cuda drivers on your machine, GPU will not be used.\n",
      "2024-09-10 02:26:02.862432: E external/local_xla/xla/stream_executor/cuda/cuda_fft.cc:485] Unable to register cuFFT factory: Attempting to register factory for plugin cuFFT when one has already been registered\n",
      "2024-09-10 02:26:02.893933: E external/local_xla/xla/stream_executor/cuda/cuda_dnn.cc:8454] Unable to register cuDNN factory: Attempting to register factory for plugin cuDNN when one has already been registered\n",
      "2024-09-10 02:26:02.903278: E external/local_xla/xla/stream_executor/cuda/cuda_blas.cc:1452] Unable to register cuBLAS factory: Attempting to register factory for plugin cuBLAS when one has already been registered\n",
      "2024-09-10 02:26:02.925844: I tensorflow/core/platform/cpu_feature_guard.cc:210] This TensorFlow binary is optimized to use available CPU instructions in performance-critical operations.\n",
      "To enable the following instructions: AVX2 FMA, in other operations, rebuild TensorFlow with the appropriate compiler flags.\n",
      "2024-09-10 02:26:04.419006: W tensorflow/compiler/tf2tensorrt/utils/py_utils.cc:38] TF-TRT Warning: Could not find TensorRT\n"
     ]
    },
    {
     "data": {
      "text/plain": [
       "'2.17.0'"
      ]
     },
     "execution_count": 7,
     "metadata": {},
     "output_type": "execute_result"
    }
   ],
   "source": [
    "# Tensorflow import 및 버전 확인\n",
    "import tensorflow as tf\n",
    "\n",
    "tf.__version__"
   ]
  },
  {
   "cell_type": "code",
   "execution_count": 8,
   "id": "5c8065cc-88bd-41af-a47a-5363f9f7de43",
   "metadata": {},
   "outputs": [],
   "source": [
    "# Tensorflow 필요한 클래스/함수 import\n",
    "from tensorflow.keras.models import Sequential, Model\n",
    "from tensorflow.keras.layers import Dense, Input\n",
    "from tensorflow.keras import optimizers\n",
    "\n",
    "# Scikit-learn 데이터 분리 함수 import\n",
    "from sklearn.model_selection import train_test_split"
   ]
  },
  {
   "cell_type": "markdown",
   "id": "2dedd5ae-7136-47a6-ae7b-6b163254184c",
   "metadata": {},
   "source": [
    "# 선형 회귀( Linear Regression )"
   ]
  },
  {
   "cell_type": "markdown",
   "id": "972587c1-251d-41a7-bc2f-a7d0be79f77a",
   "metadata": {},
   "source": [
    "## 0. 데이터 준비"
   ]
  },
  {
   "cell_type": "code",
   "execution_count": 9,
   "id": "bcbc4fa3-fafb-46df-b9d6-0ca25b801617",
   "metadata": {},
   "outputs": [],
   "source": [
    "# 입력 데이터\n",
    "X = np.array( [ 1, 2, 3, 4, 5, 6, 7, 8, 9 ] )\n",
    "\n",
    "# Label\n",
    "y = np.array( [ 11, 22, 33, 44, 53, 66, 77, 87, 95 ] )"
   ]
  },
  {
   "cell_type": "code",
   "execution_count": 10,
   "id": "0efbcf09-f0b5-418a-bb0c-5575747abb62",
   "metadata": {},
   "outputs": [
    {
     "name": "stdout",
     "output_type": "stream",
     "text": [
      "X.shape : (9,)\n",
      "y.shape : (9,)\n"
     ]
    }
   ],
   "source": [
    "print( f'X.shape : {X.shape}' )\n",
    "print( f'y.shape : {y.shape}' )"
   ]
  },
  {
   "cell_type": "markdown",
   "id": "1434db1b-d554-432c-aef7-a737777c754e",
   "metadata": {},
   "source": [
    "## 1. 데이터 분석"
   ]
  },
  {
   "cell_type": "code",
   "execution_count": 11,
   "id": "3a17dca4-d994-4144-9e24-bc0f25612276",
   "metadata": {},
   "outputs": [
    {
     "data": {
      "image/png": "[encoded data removed]",
      "text/plain": [
       "<Figure size 640x480 with 1 Axes>"
      ]
     },
     "metadata": {},
     "output_type": "display_data"
    }
   ],
   "source": [
    "plt.plot( X, y, 'b', X, y, 'k.' )\n",
    "\n",
    "plt.title( '공부 시간에 따른 점수' )\n",
    "plt.xlabel( '공부 시간' )\n",
    "plt.ylabel( '점수' )\n",
    "plt.grid()\n",
    "\n",
    "plt.show()"
   ]
  },
  {
   "cell_type": "markdown",
   "id": "f11fd3ce-5364-4d16-8ee2-3437e35fb9c7",
   "metadata": {},
   "source": [
    "## 2. 모델링( Modeling ) - 학습 모델 생성 단계"
   ]
  },
  {
   "cell_type": "code",
   "execution_count": 18,
   "id": "c516dc22-d18b-4db2-a4f3-78a1656909a9",
   "metadata": {},
   "outputs": [],
   "source": [
    "model = Sequential() # Sequential 객체 생성\n",
    "model.add( Dense( 1, input_dim = 1, activation = 'linear', name = 'output' ) ) # layer 추가\n",
    "# Dense 객체 - 신경망 layer\n",
    "#   첫번째 인수 : 뉴런( Nuron )\n",
    "#   input_dim=1 : 입력 차원( 입력데이터 수 )\n",
    "#   activation='linear' : 활성화 함수 -> 출력 layer에서는 가설식에 해당하는 함수\n",
    "#               linear-선형회귀, sigmoid-이진분류, softmax-다중클래스분류\n",
    "#   name='output' : layer 이름( 선택 사항 )\n",
    "\n",
    "#model = Sequential( [ Dense( 1, input_dim = 1, activation = 'linear', name = 'output' ) ] )"
   ]
  },
  {
   "cell_type": "code",
   "execution_count": 19,
   "id": "cd214019-2a03-40e4-9aea-ddde85aef6c5",
   "metadata": {},
   "outputs": [
    {
     "data": {
      "text/html": [
       "<pre style=\"white-space:pre;overflow-x:auto;line-height:normal;font-family:Menlo,'DejaVu Sans Mono',consolas,'Courier New',monospace\"><span style=\"font-weight: bold\">Model: \"sequential_2\"</span>\n",
       "</pre>\n"
      ],
      "text/plain": [
       "\u001b[1mModel: \"sequential_2\"\u001b[0m\n"
      ]
     },
     "metadata": {},
     "output_type": "display_data"
    },
    {
     "data": {
      "text/html": [
       "<pre style=\"white-space:pre;overflow-x:auto;line-height:normal;font-family:Menlo,'DejaVu Sans Mono',consolas,'Courier New',monospace\">┏━━━━━━━━━━━━━━━━━━━━━━━━━━━━━━━━━┳━━━━━━━━━━━━━━━━━━━━━━━━┳━━━━━━━━━━━━━━━┓\n",
       "┃<span style=\"font-weight: bold\"> Layer (type)                    </span>┃<span style=\"font-weight: bold\"> Output Shape           </span>┃<span style=\"font-weight: bold\">       Param # </span>┃\n",
       "┡━━━━━━━━━━━━━━━━━━━━━━━━━━━━━━━━━╇━━━━━━━━━━━━━━━━━━━━━━━━╇━━━━━━━━━━━━━━━┩\n",
       "│ output (<span style=\"color: #0087ff; text-decoration-color: #0087ff\">Dense</span>)                  │ (<span style=\"color: #00d7ff; text-decoration-color: #00d7ff\">None</span>, <span style=\"color: #00af00; text-decoration-color: #00af00\">1</span>)              │             <span style=\"color: #00af00; text-decoration-color: #00af00\">2</span> │\n",
       "└─────────────────────────────────┴────────────────────────┴───────────────┘\n",
       "</pre>\n"
      ],
      "text/plain": [
       "┏━━━━━━━━━━━━━━━━━━━━━━━━━━━━━━━━━┳━━━━━━━━━━━━━━━━━━━━━━━━┳━━━━━━━━━━━━━━━┓\n",
       "┃\u001b[1m \u001b[0m\u001b[1mLayer (type)                   \u001b[0m\u001b[1m \u001b[0m┃\u001b[1m \u001b[0m\u001b[1mOutput Shape          \u001b[0m\u001b[1m \u001b[0m┃\u001b[1m \u001b[0m\u001b[1m      Param #\u001b[0m\u001b[1m \u001b[0m┃\n",
       "┡━━━━━━━━━━━━━━━━━━━━━━━━━━━━━━━━━╇━━━━━━━━━━━━━━━━━━━━━━━━╇━━━━━━━━━━━━━━━┩\n",
       "│ output (\u001b[38;5;33mDense\u001b[0m)                  │ (\u001b[38;5;45mNone\u001b[0m, \u001b[38;5;34m1\u001b[0m)              │             \u001b[38;5;34m2\u001b[0m │\n",
       "└─────────────────────────────────┴────────────────────────┴───────────────┘\n"
      ]
     },
     "metadata": {},
     "output_type": "display_data"
    },
    {
     "data": {
      "text/html": [
       "<pre style=\"white-space:pre;overflow-x:auto;line-height:normal;font-family:Menlo,'DejaVu Sans Mono',consolas,'Courier New',monospace\"><span style=\"font-weight: bold\"> Total params: </span><span style=\"color: #00af00; text-decoration-color: #00af00\">2</span> (8.00 B)\n",
       "</pre>\n"
      ],
      "text/plain": [
       "\u001b[1m Total params: \u001b[0m\u001b[38;5;34m2\u001b[0m (8.00 B)\n"
      ]
     },
     "metadata": {},
     "output_type": "display_data"
    },
    {
     "data": {
      "text/html": [
       "<pre style=\"white-space:pre;overflow-x:auto;line-height:normal;font-family:Menlo,'DejaVu Sans Mono',consolas,'Courier New',monospace\"><span style=\"font-weight: bold\"> Trainable params: </span><span style=\"color: #00af00; text-decoration-color: #00af00\">2</span> (8.00 B)\n",
       "</pre>\n"
      ],
      "text/plain": [
       "\u001b[1m Trainable params: \u001b[0m\u001b[38;5;34m2\u001b[0m (8.00 B)\n"
      ]
     },
     "metadata": {},
     "output_type": "display_data"
    },
    {
     "data": {
      "text/html": [
       "<pre style=\"white-space:pre;overflow-x:auto;line-height:normal;font-family:Menlo,'DejaVu Sans Mono',consolas,'Courier New',monospace\"><span style=\"font-weight: bold\"> Non-trainable params: </span><span style=\"color: #00af00; text-decoration-color: #00af00\">0</span> (0.00 B)\n",
       "</pre>\n"
      ],
      "text/plain": [
       "\u001b[1m Non-trainable params: \u001b[0m\u001b[38;5;34m0\u001b[0m (0.00 B)\n"
      ]
     },
     "metadata": {},
     "output_type": "display_data"
    }
   ],
   "source": [
    "model.summary() # 모델 구조 출력"
   ]
  },
  {
   "cell_type": "markdown",
   "id": "edfc3e1e-41c3-481d-b327-0be2d77b2b22",
   "metadata": {},
   "source": [
    "## 3. 모델 컴파일( compile ) "
   ]
  },
  {
   "cell_type": "code",
   "execution_count": 20,
   "id": "b50e7657-a70a-49ea-9a0a-d5eaa11417b3",
   "metadata": {},
   "outputs": [],
   "source": [
    "sgd = optimizers.SGD() # optimizer 객체 생성, SGD-확률적 경사 하강법\n",
    "\n",
    "# compile() 메서드, Sequential 객체에서 제공하는 메서드( 함수 )\n",
    "#    loss='mean_sequared_error' : 비용함수, 딥러닝에서는 손실 함수, 필수 인수\n",
    "#    optimizer=sgd : optimizer, 필수 인수\n",
    "#    metrics=['mse', 'accuracy'] : 훈련시 출력할 항목 지정( 훈련 모니터링 지표 ), loss는 기본 출력\n",
    "#        accuracy : 분류모델에서 주로 사용\n",
    "model.compile( loss = 'mean_squared_error',\n",
    "               optimizer = sgd,\n",
    "               metrics = [ 'mse', 'accuracy' ] )"
   ]
  },
  {
   "cell_type": "markdown",
   "id": "a10b7d39-c209-49e6-9ef5-e2bbc655963a",
   "metadata": {},
   "source": [
    "## 4. 훈련"
   ]
  },
  {
   "cell_type": "code",
   "execution_count": 21,
   "id": "562db60b-8911-48f3-977b-6e15f40347ae",
   "metadata": {},
   "outputs": [
    {
     "name": "stdout",
     "output_type": "stream",
     "text": [
      "Epoch 1/20\n",
      "\u001b[1m9/9\u001b[0m \u001b[32m━━━━━━━━━━━━━━━━━━━━\u001b[0m\u001b[37m\u001b[0m \u001b[1m1s\u001b[0m 3ms/step - accuracy: 0.0000e+00 - loss: 1226.0972 - mse: 1226.0972\n",
      "Epoch 2/20\n",
      "\u001b[1m9/9\u001b[0m \u001b[32m━━━━━━━━━━━━━━━━━━━━\u001b[0m\u001b[37m\u001b[0m \u001b[1m0s\u001b[0m 2ms/step - accuracy: 0.0000e+00 - loss: 1.5072 - mse: 1.5072 \n",
      "Epoch 3/20\n",
      "\u001b[1m9/9\u001b[0m \u001b[32m━━━━━━━━━━━━━━━━━━━━\u001b[0m\u001b[37m\u001b[0m \u001b[1m0s\u001b[0m 2ms/step - accuracy: 0.0000e+00 - loss: 3.0417 - mse: 3.0417 \n",
      "Epoch 4/20\n",
      "\u001b[1m9/9\u001b[0m \u001b[32m━━━━━━━━━━━━━━━━━━━━\u001b[0m\u001b[37m\u001b[0m \u001b[1m0s\u001b[0m 2ms/step - accuracy: 0.0000e+00 - loss: 3.5682 - mse: 3.5682         \n",
      "Epoch 5/20\n",
      "\u001b[1m9/9\u001b[0m \u001b[32m━━━━━━━━━━━━━━━━━━━━\u001b[0m\u001b[37m\u001b[0m \u001b[1m0s\u001b[0m 2ms/step - accuracy: 0.0000e+00 - loss: 2.6306 - mse: 2.6306 \n",
      "Epoch 6/20\n",
      "\u001b[1m9/9\u001b[0m \u001b[32m━━━━━━━━━━━━━━━━━━━━\u001b[0m\u001b[37m\u001b[0m \u001b[1m0s\u001b[0m 2ms/step - accuracy: 0.0000e+00 - loss: 5.6253 - mse: 5.6253 \n",
      "Epoch 7/20\n",
      "\u001b[1m9/9\u001b[0m \u001b[32m━━━━━━━━━━━━━━━━━━━━\u001b[0m\u001b[37m\u001b[0m \u001b[1m0s\u001b[0m 2ms/step - accuracy: 0.0000e+00 - loss: 4.3383 - mse: 4.3383 \n",
      "Epoch 8/20\n",
      "\u001b[1m9/9\u001b[0m \u001b[32m━━━━━━━━━━━━━━━━━━━━\u001b[0m\u001b[37m\u001b[0m \u001b[1m0s\u001b[0m 2ms/step - accuracy: 0.0000e+00 - loss: 3.8051 - mse: 3.8051 \n",
      "Epoch 9/20\n",
      "\u001b[1m9/9\u001b[0m \u001b[32m━━━━━━━━━━━━━━━━━━━━\u001b[0m\u001b[37m\u001b[0m \u001b[1m0s\u001b[0m 2ms/step - accuracy: 0.0000e+00 - loss: 1.2437 - mse: 1.2437 \n",
      "Epoch 10/20\n",
      "\u001b[1m9/9\u001b[0m \u001b[32m━━━━━━━━━━━━━━━━━━━━\u001b[0m\u001b[37m\u001b[0m \u001b[1m0s\u001b[0m 2ms/step - accuracy: 0.0000e+00 - loss: 0.8992 - mse: 0.8992 \n",
      "Epoch 11/20\n",
      "\u001b[1m9/9\u001b[0m \u001b[32m━━━━━━━━━━━━━━━━━━━━\u001b[0m\u001b[37m\u001b[0m \u001b[1m0s\u001b[0m 2ms/step - accuracy: 0.0000e+00 - loss: 2.0507 - mse: 2.0507 \n",
      "Epoch 12/20\n",
      "\u001b[1m9/9\u001b[0m \u001b[32m━━━━━━━━━━━━━━━━━━━━\u001b[0m\u001b[37m\u001b[0m \u001b[1m0s\u001b[0m 2ms/step - accuracy: 0.0000e+00 - loss: 2.8944 - mse: 2.8944 \n",
      "Epoch 13/20\n",
      "\u001b[1m9/9\u001b[0m \u001b[32m━━━━━━━━━━━━━━━━━━━━\u001b[0m\u001b[37m\u001b[0m \u001b[1m0s\u001b[0m 2ms/step - accuracy: 0.0000e+00 - loss: 1.5463 - mse: 1.5463 \n",
      "Epoch 14/20\n",
      "\u001b[1m9/9\u001b[0m \u001b[32m━━━━━━━━━━━━━━━━━━━━\u001b[0m\u001b[37m\u001b[0m \u001b[1m0s\u001b[0m 2ms/step - accuracy: 0.0000e+00 - loss: 0.8091 - mse: 0.8091 \n",
      "Epoch 15/20\n",
      "\u001b[1m9/9\u001b[0m \u001b[32m━━━━━━━━━━━━━━━━━━━━\u001b[0m\u001b[37m\u001b[0m \u001b[1m0s\u001b[0m 1ms/step - accuracy: 0.0000e+00 - loss: 2.4195 - mse: 2.4195 \n",
      "Epoch 16/20\n",
      "\u001b[1m9/9\u001b[0m \u001b[32m━━━━━━━━━━━━━━━━━━━━\u001b[0m\u001b[37m\u001b[0m \u001b[1m0s\u001b[0m 2ms/step - accuracy: 0.0000e+00 - loss: 5.2691 - mse: 5.2691   \n",
      "Epoch 17/20\n",
      "\u001b[1m9/9\u001b[0m \u001b[32m━━━━━━━━━━━━━━━━━━━━\u001b[0m\u001b[37m\u001b[0m \u001b[1m0s\u001b[0m 2ms/step - accuracy: 0.0000e+00 - loss: 1.1337 - mse: 1.1337 \n",
      "Epoch 18/20\n",
      "\u001b[1m9/9\u001b[0m \u001b[32m━━━━━━━━━━━━━━━━━━━━\u001b[0m\u001b[37m\u001b[0m \u001b[1m0s\u001b[0m 2ms/step - accuracy: 0.0000e+00 - loss: 1.3626 - mse: 1.3626 \n",
      "Epoch 19/20\n",
      "\u001b[1m9/9\u001b[0m \u001b[32m━━━━━━━━━━━━━━━━━━━━\u001b[0m\u001b[37m\u001b[0m \u001b[1m0s\u001b[0m 2ms/step - accuracy: 0.0000e+00 - loss: 6.9090 - mse: 6.9090   \n",
      "Epoch 20/20\n",
      "\u001b[1m9/9\u001b[0m \u001b[32m━━━━━━━━━━━━━━━━━━━━\u001b[0m\u001b[37m\u001b[0m \u001b[1m0s\u001b[0m 2ms/step - accuracy: 0.0000e+00 - loss: 2.2072 - mse: 2.2072 \n"
     ]
    }
   ],
   "source": [
    "# fit() 메서드 : 모델 훈련 \n",
    "#   X : 훈련 입력 데이터 집합\n",
    "#   y : 훈련 Label 집합\n",
    "#   epochs=20 : 훈련 횟수\n",
    "#   batch_size=1 : 매개 변수를 변경하는 단위, 1은 1개 단위로 매개 변수 변경\n",
    "history = model.fit( X, y, epochs = 20,\n",
    "                     batch_size = 1 )"
   ]
  },
  {
   "cell_type": "markdown",
   "id": "e6005f46-88c5-4905-a88d-39cb9cfc1566",
   "metadata": {},
   "source": [
    "### 훈련 과정 확인"
   ]
  },
  {
   "cell_type": "code",
   "execution_count": 22,
   "id": "1872051d-de9b-4963-a846-53a8f1582762",
   "metadata": {},
   "outputs": [
    {
     "data": {
      "text/plain": [
       "keras.src.callbacks.history.History"
      ]
     },
     "execution_count": 22,
     "metadata": {},
     "output_type": "execute_result"
    }
   ],
   "source": [
    "type( history )"
   ]
  },
  {
   "cell_type": "code",
   "execution_count": 23,
   "id": "b165e657-bd45-4c03-a5e1-80d01794e44c",
   "metadata": {},
   "outputs": [
    {
     "data": {
      "text/plain": [
       "<keras.src.callbacks.history.History at 0x780c6a7c0cb0>"
      ]
     },
     "execution_count": 23,
     "metadata": {},
     "output_type": "execute_result"
    }
   ],
   "source": [
    "history"
   ]
  },
  {
   "cell_type": "code",
   "execution_count": 24,
   "id": "a6d9b378-d0ba-4746-82df-9d0cea40a6b8",
   "metadata": {},
   "outputs": [
    {
     "data": {
      "text/plain": [
       "dict"
      ]
     },
     "execution_count": 24,
     "metadata": {},
     "output_type": "execute_result"
    }
   ],
   "source": [
    "type( history.history )"
   ]
  },
  {
   "cell_type": "code",
   "execution_count": 25,
   "id": "6e21d835-3903-4fb4-8a24-6dc316ab1103",
   "metadata": {},
   "outputs": [
    {
     "name": "stdout",
     "output_type": "stream",
     "text": [
      "[696.30908203125, 3.225633144378662, 3.2185299396514893, 4.245152473449707, 2.933816432952881, 3.6315956115722656, 3.168635606765747, 3.206313133239746, 1.2371236085891724, 1.5774691104888916, 2.0353848934173584, 3.5057365894317627, 1.6275010108947754, 1.6133716106414795, 2.4122862815856934, 4.739224910736084, 1.5913289785385132, 2.163133144378662, 4.568593978881836, 3.776778221130371]\n"
     ]
    }
   ],
   "source": [
    "print( history.history[ 'loss' ] )"
   ]
  },
  {
   "cell_type": "code",
   "execution_count": 26,
   "id": "dd15536c-82ce-4446-8760-429c59889db5",
   "metadata": {},
   "outputs": [
    {
     "data": {
      "image/png": "[encoded data removed]",
      "text/plain": [
       "<Figure size 640x480 with 1 Axes>"
      ]
     },
     "metadata": {},
     "output_type": "display_data"
    }
   ],
   "source": [
    "loss = history.history[ 'loss' ]\n",
    "mse = history.history[ 'mse' ]\n",
    "epochs = range( 1, len( loss ) + 1 )\n",
    "\n",
    "plt.plot( epochs, loss, label = 'Training Loss' )\n",
    "plt.plot( epochs, mse, label = 'MSE' )\n",
    "plt.title( 'Training' )\n",
    "plt.xlabel( 'Epochs' )\n",
    "plt.ylabel( 'loss' )\n",
    "plt.legend()\n",
    "plt.grid()\n",
    "\n",
    "plt.show()"
   ]
  },
  {
   "cell_type": "markdown",
   "id": "06da7dd8-5eec-467f-a19d-da63b045b999",
   "metadata": {},
   "source": [
    "## 5. 평가"
   ]
  },
  {
   "cell_type": "code",
   "execution_count": 27,
   "id": "fb70f621-a3e1-4375-ae84-0e0361dc6e34",
   "metadata": {},
   "outputs": [
    {
     "name": "stdout",
     "output_type": "stream",
     "text": [
      "\u001b[1m9/9\u001b[0m \u001b[32m━━━━━━━━━━━━━━━━━━━━\u001b[0m\u001b[37m\u001b[0m \u001b[1m0s\u001b[0m 2ms/step - accuracy: 0.0000e+00 - loss: 1.3684 - mse: 1.3684  \n"
     ]
    },
    {
     "data": {
      "text/plain": [
       "[2.335482120513916, 2.335482120513916, 0.0]"
      ]
     },
     "execution_count": 27,
     "metadata": {},
     "output_type": "execute_result"
    }
   ],
   "source": [
    "# evaluate() 메서드 : 훈련이 끝난 모델에 대하여 성능 평가\n",
    "#   X : 평가용 입력데이터\n",
    "#   y : 평가요 Label\n",
    "#   batch_size=1 : 평가 batch_size\n",
    "model.evaluate( X, y, batch_size = 1 )"
   ]
  },
  {
   "cell_type": "markdown",
   "id": "fde58ad6-d552-4d7c-b526-9c4ace61e1ec",
   "metadata": {},
   "source": [
    "## 6. 예측"
   ]
  },
  {
   "cell_type": "code",
   "execution_count": 28,
   "id": "0fb3c665-03f3-4a84-957a-5063d5581ef5",
   "metadata": {},
   "outputs": [
    {
     "name": "stdout",
     "output_type": "stream",
     "text": [
      "\u001b[1m1/1\u001b[0m \u001b[32m━━━━━━━━━━━━━━━━━━━━\u001b[0m\u001b[37m\u001b[0m \u001b[1m0s\u001b[0m 43ms/step\n"
     ]
    },
    {
     "data": {
      "text/plain": [
       "array([[98.51552]], dtype=float32)"
      ]
     },
     "execution_count": 28,
     "metadata": {},
     "output_type": "execute_result"
    }
   ],
   "source": [
    "# predict() 메서드 : 생성된 AI 모델을 활용하여 예측( 추론 ) 수행\n",
    "#   인수 : 모델 훈련시 입력데이터 수와 자료형에 맞추어 전달되는 추론시 사용하는 값\n",
    "model.predict( np.array( [ 9 ] ) )"
   ]
  },
  {
   "cell_type": "code",
   "execution_count": 29,
   "id": "281a797a-c437-49ce-8a26-5c7bdf3af0d7",
   "metadata": {},
   "outputs": [
    {
     "name": "stdout",
     "output_type": "stream",
     "text": [
      "\u001b[1m1/1\u001b[0m \u001b[32m━━━━━━━━━━━━━━━━━━━━\u001b[0m\u001b[37m\u001b[0m \u001b[1m0s\u001b[0m 22ms/step\n"
     ]
    },
    {
     "data": {
      "text/plain": [
       "array([[109.31697]], dtype=float32)"
      ]
     },
     "execution_count": 29,
     "metadata": {},
     "output_type": "execute_result"
    }
   ],
   "source": [
    "model.predict( np.array( [ 10 ] ) )"
   ]
  },
  {
   "cell_type": "code",
   "execution_count": 30,
   "id": "c80a60a9-f09d-45f4-bd93-789d74eda4a0",
   "metadata": {},
   "outputs": [
    {
     "name": "stdout",
     "output_type": "stream",
     "text": [
      "\u001b[1m1/1\u001b[0m \u001b[32m━━━━━━━━━━━━━━━━━━━━\u001b[0m\u001b[37m\u001b[0m \u001b[1m0s\u001b[0m 41ms/step\n"
     ]
    },
    {
     "data": {
      "text/plain": [
       "array([[12.10386 ],\n",
       "       [22.905317],\n",
       "       [33.706776],\n",
       "       [44.508232],\n",
       "       [55.30969 ],\n",
       "       [66.111145],\n",
       "       [76.9126  ],\n",
       "       [87.71406 ],\n",
       "       [98.51552 ]], dtype=float32)"
      ]
     },
     "execution_count": 30,
     "metadata": {},
     "output_type": "execute_result"
    }
   ],
   "source": [
    "model.predict( X )"
   ]
  },
  {
   "cell_type": "code",
   "execution_count": 56,
   "id": "6c20a219-e1eb-4a42-a1d6-f2242983e236",
   "metadata": {},
   "outputs": [
    {
     "name": "stdout",
     "output_type": "stream",
     "text": [
      "\u001b[1m1/1\u001b[0m \u001b[32m━━━━━━━━━━━━━━━━━━━━\u001b[0m\u001b[37m\u001b[0m \u001b[1m0s\u001b[0m 40ms/step\n"
     ]
    },
    {
     "data": {
      "image/png": "[encoded data removed]",
      "text/plain": [
       "<Figure size 640x480 with 1 Axes>"
      ]
     },
     "metadata": {},
     "output_type": "display_data"
    }
   ],
   "source": [
    "plt.plot( X, model.predict( X ), 'b', X, y, 'k.' )\n",
    "plt.title( '공부 시간에 따른 성적 예측' )\n",
    "plt.xlabel( '공부 시간' )\n",
    "plt.ylabel( '점수 ' )\n",
    "plt.grid()\n",
    "\n",
    "plt.show()"
   ]
  },
  {
   "cell_type": "code",
   "execution_count": null,
   "id": "f13ee202-1b96-46c0-8045-e1d61c360e50",
   "metadata": {},
   "outputs": [],
   "source": []
  }
 ],
 "metadata": {
  "kernelspec": {
   "display_name": "Python 3 (ipykernel)",
   "language": "python",
   "name": "python3"
  },
  "language_info": {
   "codemirror_mode": {
    "name": "ipython",
    "version": 3
   },
   "file_extension": ".py",
   "mimetype": "text/x-python",
   "name": "python",
   "nbconvert_exporter": "python",
   "pygments_lexer": "ipython3",
   "version": "3.12.3"
  }
 },
 "nbformat": 4,
 "nbformat_minor": 5
}
