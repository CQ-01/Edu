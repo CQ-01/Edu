{
  "nbformat": 4,
  "nbformat_minor": 0,
  "metadata": {
    "colab": {
      "provenance": []
    },
    "kernelspec": {
      "name": "python3",
      "display_name": "Python 3"
    },
    "language_info": {
      "name": "python"
    }
  },
  "cells": [
    {
      "cell_type": "markdown",
      "source": [
        "# I. 통계적 가설 검정"
      ],
      "metadata": {
        "id": "mxSO7HXh1Uhc"
      }
    },
    {
      "cell_type": "markdown",
      "source": [
        "\n",
        "## 1. 가설 검정\n",
        "> 모집단에 설정된 가설의 타당성 여부를 표본 분석을 통해 결정\n",
        "\n",
        "- 검정통계량(Test Statistic) : 표본을 근거로 하여 가설의 채택여부를 결정짓는데, 이때 사용되는 표본통계량\n",
        "- 가설 검정(Hypothesis Testing) : 검정통계량의 표본분포에 따라 채택여부를 결정짓는 일련의 통계적 분석과정"
      ],
      "metadata": {
        "id": "hs_Bq4DU1Yv5"
      }
    },
    {
      "cell_type": "markdown",
      "source": [
        "**1. 가설 검정의 절차**\n",
        "\n",
        "- 가설의 설정\n",
        "> 오류의 허용확률을 정해 놓고 그 기준에 따라 가설의 채택이나 기각을 결정한다\n",
        "\n",
        "    - 귀무가설 : 현재 통념적으로 믿어지고 있는 모수에 대한 주장 또는 원래의 기준이 되는 가설\n",
        "    - 대립가설 : 연구자가 모수에 대해 새로운 통계적 입증을 이루어 내고자 하는 가설\n",
        "\n",
        "- 유의 수준 $\\alpha$\n",
        "    - 제 1종 오류 : 귀무가설이 참일때 귀무가설을 기각하도록 결정하는 오류 **(더 중요)**\n",
        "    - 제 2종 오류 : 귀무가설이 거짓일때 귀무가설을 채택하도록 하는 오류\n",
        "    - 유의 수준 : 제 1종 오류를 범할 확률의\n",
        "    - 유의 확률(p-value) : 관찰된 데이터의 검정통계량이 귀무가설을 지지하는 정도(대립가설이 거짓일 확률)\n"
      ],
      "metadata": {
        "id": "s0YaooX51qS8"
      }
    },
    {
      "cell_type": "markdown",
      "source": [
        "**2. 검정통계량 및 표본분포의 결정**\n",
        "> 모수에 대한 정보는 표본에 함축되어 있기에 표본을 통하여 가설의 채택 여부를 결정짓게 되며, 이때 사용되는 표본 통계량을 검정통계량이라 한다\n",
        "\n",
        "> 유의수준에 따른 귀무가설의 기각역을 결정하기 위해서, 귀무가설이 참일 때 검정통계량의 확률분포를 알아야 하며, 알려져 있지 않을 때에는 통계학의 극한이론에 근거하여 근사적인 분포가 정해져야 한다."
      ],
      "metadata": {
        "id": "HB8WezJ5Zb5o"
      }
    },
    {
      "cell_type": "markdown",
      "source": [
        "**3. 기각역의 결정**\n",
        "> 표본에서 계산된 통계량이 가설로 설정한 모집단의 성격과 현저한 차이가 있을 경우에는 모집단에 대해 설정한 귀무가설을 기각하게 되는데 이때 귀무가설을 기각하게 되는 검정통계량의 범위를 기각역이라 하며, 기각역의 경계값을 임계치라 한다.\n",
        "\n",
        "- 임계치 : 주어진 유의수준 $\\alpha$에서 귀무가설의 채택과 기각에 관련된 의사결정을 할때 그 기준이 되는 점\n",
        "- 기각역은 검정통계량의 확률분포와 유의수준의 대립가설의 형태(우측, 좌측)에 따라 단측 또는 양측 검정통계량이 결정된다\n",
        "- 양측 검정 : 가설 검정에서 기각영역이 양쪽에 있는 것\n",
        "- 단측 검정 : 가설 검정에서 기각영역이 한쪽에만 있는 것"
      ],
      "metadata": {
        "id": "cULg3rJ5aoes"
      }
    },
    {
      "cell_type": "markdown",
      "source": [
        "** 4. 검정통계량의 계산**\n",
        "- 의사결정 : 검정통계량의 값이 기각역에 속하면 귀무가설을 기각(대립가설 채택), 그렇지 않으면 귀무가설을 채택(대립가설 기각)\n",
        "- 통계량의 계산과 임계치의 비교 : 임계치가 결정되면 표본에서 얻은 통계량이 기각 영역 안에 있는지 채택 영역안에 있는지 비교하여 결정한다\n",
        "- p-value : 유의성 확률, 관측된 유의수준으로도 불리며 귀무가설을 기각하려고 할때 최소의 유의수준을 이른다."
      ],
      "metadata": {
        "id": "pkAHM-kabu9u"
      }
    },
    {
      "cell_type": "markdown",
      "source": [
        "## 2. 통계적 가설 검정 기법"
      ],
      "metadata": {
        "id": "Np768y3y1088"
      }
    },
    {
      "cell_type": "markdown",
      "source": [
        "1. 표본의 평균 검정\n",
        "> 표본 평균을 이용해 단일표본에서 모평균에 대한 검정을 진행한다.\n",
        "- 정규분포를 따를 경우 표본 집단의 크기에 따라 z-검정, t-검정을 시행한다."
      ],
      "metadata": {
        "id": "6LQ5XLwj136h"
      }
    },
    {
      "cell_type": "markdown",
      "source": [
        "---"
      ],
      "metadata": {
        "id": "54cjM6tF9CJC"
      }
    },
    {
      "cell_type": "markdown",
      "source": [
        "# II. 통계적 가설 검정 기법 실습"
      ],
      "metadata": {
        "id": "gVoYM7wy9Eub"
      }
    },
    {
      "cell_type": "markdown",
      "source": [
        "1. 표본의 평균 검정"
      ],
      "metadata": {
        "id": "x88PKDin9VN0"
      }
    },
    {
      "cell_type": "markdown",
      "source": [
        "- 모집단의 분산(표준편차)를 알고 있는 경우 : z-test(양측)"
      ],
      "metadata": {
        "id": "q4fA3L-H9gRx"
      }
    },
    {
      "cell_type": "code",
      "source": [
        "import numpy as np\n",
        "import pandas as pd\n",
        "from scipy.stats import norm"
      ],
      "metadata": {
        "id": "QKCaZwOL_O3T"
      },
      "execution_count": 5,
      "outputs": []
    },
    {
      "cell_type": "code",
      "execution_count": 8,
      "metadata": {
        "id": "uh_MbE8_1LSB",
        "colab": {
          "base_uri": "https://localhost:8080/"
        },
        "outputId": "850fe9e5-d44c-4563-e7cc-2aea5cf8eab2"
      },
      "outputs": [
        {
          "output_type": "stream",
          "name": "stdout",
          "text": [
            "표본평균: 27.9\n",
            "검정통계량: -0.15811388300842122\n",
            "임계값: 1.959963984540054\n",
            "p값: 0.87436706116289\n",
            "귀무가설을 기각하지 못합니다. 표본평균이 모집단 평균과 차이가 없을 가능성이 있습니다.\n"
          ]
        }
      ],
      "source": [
        "# 예제 데이터 생성\n",
        "data = np.array([23, 25, 28, 30, 26, 27, 29, 32, 31, 28])\n",
        "\n",
        "population_mean = 28  # 모집단의 평균\n",
        "population_variance = 4  # 모집단의 분산\n",
        "\n",
        "alpha = 0.05  # 유의수준 alpha\n",
        "\n",
        "alternative = \"two.sided\"  # 단측/양측 검정 선택\n",
        "\n",
        "sample_mean = np.mean(data)  # 표본평균 계산\n",
        "\n",
        "n = len(data)  # 표본크기\n",
        "\n",
        "test_statistic = (sample_mean - population_mean) / (np.sqrt(population_variance) / np.sqrt(n))  # 검정통계량 계산(z-검정), np.sqrt() : 제곱근 반환\n",
        "\n",
        "critical_value = norm.ppf(1 - alpha / 2)  # 임계값 계산(z-검정, 양측검정), norm.ppf() : 역누적분포함수 반환\n",
        "\n",
        "p_value = 2 * (1 - norm.cdf(abs(test_statistic)))  # p-value 계산(양측 검정), norm.cdf() : 누적분포함수 반환\n",
        "\n",
        "print('표본평균:', sample_mean)\n",
        "print('검정통계량:', test_statistic)\n",
        "print('임계값:', critical_value)\n",
        "print('p값:', p_value)\n",
        "\n",
        "if abs(test_statistic) > critical_value:\n",
        "    print('귀무가설을 기각합니다. 표본평균이 모집단 평균과 다릅니다.')\n",
        "else:\n",
        "    print('귀무가설을 기각하지 못합니다. 표본평균이 모집단 평균과 차이가 없을 가능성이 있습니다.')"
      ]
    }
  ]
}