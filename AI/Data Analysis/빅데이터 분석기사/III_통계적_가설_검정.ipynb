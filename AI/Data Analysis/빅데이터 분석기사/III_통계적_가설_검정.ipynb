{
  "nbformat": 4,
  "nbformat_minor": 0,
  "metadata": {
    "colab": {
      "provenance": []
    },
    "kernelspec": {
      "name": "python3",
      "display_name": "Python 3"
    },
    "language_info": {
      "name": "python"
    }
  },
  "cells": [
    {
      "cell_type": "markdown",
      "source": [
        "# I. 통계적 가설 검정"
      ],
      "metadata": {
        "id": "mxSO7HXh1Uhc"
      }
    },
    {
      "cell_type": "markdown",
      "source": [
        "\n",
        "## 1. 가설 검정"
      ],
      "metadata": {
        "id": "hs_Bq4DU1Yv5"
      }
    },
    {
      "cell_type": "markdown",
      "source": [],
      "metadata": {
        "id": "s0YaooX51qS8"
      }
    },
    {
      "cell_type": "markdown",
      "source": [
        "## 2. 통계적 가설 검정 기법"
      ],
      "metadata": {
        "id": "Np768y3y1088"
      }
    },
    {
      "cell_type": "markdown",
      "source": [],
      "metadata": {
        "id": "6LQ5XLwj136h"
      }
    },
    {
      "cell_type": "code",
      "execution_count": null,
      "metadata": {
        "id": "uh_MbE8_1LSB"
      },
      "outputs": [],
      "source": []
    }
  ]
}