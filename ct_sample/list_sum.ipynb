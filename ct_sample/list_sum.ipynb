{
 "cells": [
  {
   "cell_type": "code",
   "execution_count": 84,
   "id": "bd8db5c0",
   "metadata": {},
   "outputs": [
    {
     "data": {
      "text/plain": [
       "10"
      ]
     },
     "execution_count": 84,
     "metadata": {},
     "output_type": "execute_result"
    }
   ],
   "source": [
    "def solution(n):\n",
    "    a = [6, 5, 4, 3, 2, 1, 0]\n",
    "    answer = 0\n",
    "    for i in a:\n",
    "        if n // 10 ** i == 0:\n",
    "            continue\n",
    "        else:\n",
    "            answer = answer + (n // 10 ** i)\n",
    "            n = n - ((n // 10 ** i) * (10 ** i))\n",
    "            continue\n",
    "    return answer\n",
    "    \n",
    "solution(136)"
   ]
  }
 ],
 "metadata": {
  "kernelspec": {
   "display_name": "Python 3 (ipykernel)",
   "language": "python",
   "name": "python3"
  },
  "language_info": {
   "codemirror_mode": {
    "name": "ipython",
    "version": 3
   },
   "file_extension": ".py",
   "mimetype": "text/x-python",
   "name": "python",
   "nbconvert_exporter": "python",
   "pygments_lexer": "ipython3",
   "version": "3.9.13"
  }
 },
 "nbformat": 4,
 "nbformat_minor": 5
}
