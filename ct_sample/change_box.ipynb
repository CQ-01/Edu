{
 "cells": [
  {
   "cell_type": "code",
   "execution_count": null,
   "id": "8a960a82",
   "metadata": {},
   "outputs": [],
   "source": [
    "# Q회 작업, N개의 상자 L부터 R까지 숫자 변경"
   ]
  },
  {
   "cell_type": "code",
   "execution_count": 16,
   "id": "51073f2e",
   "metadata": {},
   "outputs": [
    {
     "name": "stdout",
     "output_type": "stream",
     "text": [
      "1\n",
      "5 2\n",
      "1 3\n",
      "2 4\n",
      "#1 1 2 2 2 0\n"
     ]
    }
   ],
   "source": [
    "T = int(input(\"케이스 갯수를 입력하세요 : \"))  # 테스트 케이스 개수\n",
    "for test_case in range(1, T + 1):  # 테스트 케이스 만큼 돌기\n",
    "    N, Q = map(int, input(\"상자 개수와 변경할 숫자 갯수를 입력하세요 : \").split())  # 상자 개수 N, 숫자 변경 Q\n",
    "    boxes = [0] * N  # 상자 개수만큼 0으로 초기화\n",
    "    for i in range(1, Q + 1):  # Q번 만큼 숫자 변경\n",
    "        Li, Ri = map(int, input(\"숫자 변경 범위를 입력하세요 : \").split())  # 숫자 변경 범위 입력 Li는 시작점 Ri는 끝날 점\n",
    "        for idx in range(Li - 1, Ri):\n",
    "            boxes[idx] = i\n",
    "\n",
    "    print(f\"#{test_case}\", end=' ')\n",
    "    print(*boxes)"
   ]
  }
 ],
 "metadata": {
  "kernelspec": {
   "display_name": "Python 3 (ipykernel)",
   "language": "python",
   "name": "python3"
  },
  "language_info": {
   "codemirror_mode": {
    "name": "ipython",
    "version": 3
   },
   "file_extension": ".py",
   "mimetype": "text/x-python",
   "name": "python",
   "nbconvert_exporter": "python",
   "pygments_lexer": "ipython3",
   "version": "3.9.13"
  }
 },
 "nbformat": 4,
 "nbformat_minor": 5
}
