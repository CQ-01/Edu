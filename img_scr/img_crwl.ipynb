{
 "cells": [
  {
   "cell_type": "code",
   "execution_count": 10,
   "id": "5c1ff2b7",
   "metadata": {},
   "outputs": [],
   "source": [
    "# 특정 폴더에 이미지 크롤\n",
    "import requests\n",
    "from bs4 import BeautifulSoup\n",
    "import os\n",
    "\n",
    "def crawl_images(search_term, num_images, folder):\n",
    "    search_term = search_term.replace(\" \", \"+\")\n",
    "    url = f\"https://www.google.com/search?q={search_term}&tbm=isch\"\n",
    "    response = requests.get(url)\n",
    "    soup = BeautifulSoup(response.content, \"html.parser\")\n",
    "\n",
    "    if not os.path.exists(folder):\n",
    "        os.makedirs(folder)\n",
    "\n",
    "    images = soup.find_all(\"img\")\n",
    "    for i, image in enumerate(images[:num_images]):\n",
    "        img_url = image.get(\"src\")\n",
    "        if img_url.startswith(\"http\"):\n",
    "            img_data = requests.get(img_url).content\n",
    "            image_path = os.path.join(folder, f\"image_{i}.jpg\")\n",
    "            with open(image_path, \"wb\") as f:\n",
    "                f.write(img_data)\n",
    "\n",
    "# Example usage\n",
    "crawl_images(\"nipple slip\", 50, \"haga\")"
   ]
  },
  {
   "cell_type": "code",
   "execution_count": 8,
   "id": "4f64d130",
   "metadata": {},
   "outputs": [],
   "source": [
    "# 로그인 한 채로 이미지 크롤(auth_token 발급받아야 가능)\n",
    "import requests\n",
    "from bs4 import BeautifulSoup\n",
    "import os\n",
    "\n",
    "def crawl_images(search_term, num_images, folder, cookies):\n",
    "    search_term = search_term.replace(\" \", \"+\")\n",
    "    url = f\"https://www.google.com/search?q={search_term}&tbm=isch\"\n",
    "\n",
    "    session = requests.Session()\n",
    "    session.cookies.update(cookies)\n",
    "\n",
    "    response = session.get(url)\n",
    "    soup = BeautifulSoup(response.content, \"html.parser\")\n",
    "\n",
    "    if not os.path.exists(folder):\n",
    "        os.makedirs(folder)\n",
    "\n",
    "    images = soup.find_all(\"img\")\n",
    "    for i, image in enumerate(images[:num_images]):\n",
    "        img_url = image.get(\"src\")\n",
    "        if img_url.startswith(\"http\"):\n",
    "            img_data = session.get(img_url).content\n",
    "            image_path = os.path.join(folder, f\"image_{i}.jpg\")\n",
    "            with open(image_path, \"wb\") as f:\n",
    "                f.write(img_data)\n",
    "\n",
    "# Example usage\n",
    "cookies = {\"SESSION_ID\": \"your_session_id\", \"AUTH_TOKEN\": \"your_auth_token\"}\n",
    "crawl_images(\"haganai nipple\", 5, \"nip\", cookies)"
   ]
  }
 ],
 "metadata": {
  "kernelspec": {
   "display_name": "Python 3 (ipykernel)",
   "language": "python",
   "name": "python3"
  },
  "language_info": {
   "codemirror_mode": {
    "name": "ipython",
    "version": 3
   },
   "file_extension": ".py",
   "mimetype": "text/x-python",
   "name": "python",
   "nbconvert_exporter": "python",
   "pygments_lexer": "ipython3",
   "version": "3.9.13"
  }
 },
 "nbformat": 4,
 "nbformat_minor": 5
}
