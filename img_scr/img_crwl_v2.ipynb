{
 "cells": [
  {
   "cell_type": "code",
   "execution_count": null,
   "id": "fc7b4722",
   "metadata": {},
   "outputs": [],
   "source": [
    "from selenium import webdriver\n",
    "from selenium.webdriver.common.keys import Keys\n",
    "from selenium.webdriver.common.by import By\n",
    "import time\n",
    "import urllib.request\n",
    "\n",
    "\n",
    "driver = webdriver.Chrome() #크롬 웹드라이버를 열기\n",
    "driver.get(\"https://www.google.co.kr/imghp?hl=ko&tab=ri&ogbl\") #구글이미지검색 창으로\n",
    "elem = driver.find_element(By.NAME, \"q\") #검색창을 찾기\n",
    "elem.send_keys(\"캔 코카콜라\") #우리의 키워드 입력하기\n",
    "elem.send_keys(Keys.RETURN) #enter키\n",
    "\n",
    "# [스크롤 내리기]\n",
    "SCROLL_PAUSE_TIME = 1\n",
    "\n",
    "# Get scroll height\n",
    "last_height = driver.execute_script(\"return document.body.scrollHeight\") #자바스크립트 코드 실행, 브라우저의 높이 알아내는 것\n",
    "\n",
    "while True:\n",
    "    # Scroll down to bottom\n",
    "    driver.execute_script(\"window.scrollTo(0, document.body.scrollHeight);\")\n",
    "\n",
    "    # Wait to load page\n",
    "    time.sleep(SCROLL_PAUSE_TIME)\n",
    "\n",
    "    # Calculate new scroll height and compare with last scroll height\n",
    "    new_height = driver.execute_script(\"return document.body.scrollHeight\")\n",
    "    if new_height == last_height:\n",
    "        try:\n",
    "            driver.find_element(By.CSS_SELECTOR,'.mye4qd').click() #결과 더보기 버튼이 있으면 클릭하라\n",
    "        except:\n",
    "            break #결과 더보기 버튼이 없으면 스크롤하는 반복문 빠져나가\n",
    "    last_height = new_height \n",
    "\n",
    "#(이제 안됨) driver.find_elements_by_css_selector(\".rg_i.Q4LuWd\")[0].click()\n",
    "images = driver.find_elements(By.CSS_SELECTOR,'.rg_i.Q4LuWd') #검색했을 때 나오는 작은 썸네일의 사진들 class 지정\n",
    "count = 1 #이미지의 개수\n",
    "for image in images: \n",
    "    try: \n",
    "        image.click() #이미지들 중 하나를 클릭\n",
    "        time.sleep(2) #큰 이미지가 나오는데 로딩될 때까지 기다려줌 (3초) (로딩되는데 시간 걸리므로)\n",
    "        imgUrl = driver.find_element(By.XPATH_SELECTOR,'/html/body/div[2]/c-wiz/div[3]/div[2]/div[3]/div/div/div[3]/div[2]/c-wiz/div/div[1]/div[1]/div[3]/div/a/img').get_attribute(\"src\") #큰 이미지의 src가져오기\n",
    "        urllib.request.urlretrieve(imgUrl, str(count) + \".jpg\") #이미지 다운로드 받기\n",
    "        count = count + 1\n",
    "    except:\n",
    "        pass\n",
    "\n",
    "driver.close() #브라우저 창을 닫아주기"
   ]
  }
 ],
 "metadata": {
  "kernelspec": {
   "display_name": "Python 3 (ipykernel)",
   "language": "python",
   "name": "python3"
  },
  "language_info": {
   "codemirror_mode": {
    "name": "ipython",
    "version": 3
   },
   "file_extension": ".py",
   "mimetype": "text/x-python",
   "name": "python",
   "nbconvert_exporter": "python",
   "pygments_lexer": "ipython3",
   "version": "3.9.13"
  }
 },
 "nbformat": 4,
 "nbformat_minor": 5
}
