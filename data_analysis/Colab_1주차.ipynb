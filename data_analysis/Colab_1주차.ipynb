{
  "nbformat": 4,
  "nbformat_minor": 0,
  "metadata": {
    "colab": {
      "provenance": []
    },
    "kernelspec": {
      "name": "python3",
      "display_name": "Python 3"
    },
    "language_info": {
      "name": "python"
    }
  },
  "cells": [
    {
      "cell_type": "code",
      "execution_count": 3,
      "metadata": {
        "colab": {
          "base_uri": "https://localhost:8080/"
        },
        "id": "LnuVUfjEuyjr",
        "outputId": "221c4207-a3ba-4136-8d7d-7e5665f4b88a"
      },
      "outputs": [
        {
          "output_type": "execute_result",
          "data": {
            "text/plain": [
              "5"
            ]
          },
          "metadata": {},
          "execution_count": 3
        }
      ],
      "source": [
        "a = 2\n",
        "b = 3\n",
        "\n",
        "a + b"
      ]
    },
    {
      "cell_type": "code",
      "source": [
        "a_list = ['사과', '배', '감', '수박']\n",
        "a_list[0]"
      ],
      "metadata": {
        "id": "G1xQSvyXu2Ki",
        "colab": {
          "base_uri": "https://localhost:8080/",
          "height": 35
        },
        "outputId": "d1e2d79b-c54c-4636-a276-353faa57616c"
      },
      "execution_count": 5,
      "outputs": [
        {
          "output_type": "execute_result",
          "data": {
            "text/plain": [
              "'사과'"
            ],
            "application/vnd.google.colaboratory.intrinsic+json": {
              "type": "string"
            }
          },
          "metadata": {},
          "execution_count": 5
        }
      ]
    },
    {
      "cell_type": "code",
      "source": [
        "a_list.append('딸기')\n",
        "a_list"
      ],
      "metadata": {
        "colab": {
          "base_uri": "https://localhost:8080/"
        },
        "id": "3l2mQjoTwfEf",
        "outputId": "0c93d2ec-40d5-4ba5-8d16-33958af845c3"
      },
      "execution_count": 7,
      "outputs": [
        {
          "output_type": "execute_result",
          "data": {
            "text/plain": [
              "['사과', '배', '감', '수박', '딸기', '딸기']"
            ]
          },
          "metadata": {},
          "execution_count": 7
        }
      ]
    },
    {
      "cell_type": "code",
      "source": [
        "a_list = [{'name' : '철수', 'age':15}, {'name':'영희', 'age':25}]\n",
        "print(a_list)\n",
        "print(a_list[0]['age'])"
      ],
      "metadata": {
        "colab": {
          "base_uri": "https://localhost:8080/"
        },
        "id": "R2F9lntpxx7Y",
        "outputId": "24dd8a51-26c8-4655-a1c7-6fcf3b024da7"
      },
      "execution_count": 13,
      "outputs": [
        {
          "output_type": "stream",
          "name": "stdout",
          "text": [
            "[{'name': '철수', 'age': 15}, {'name': '영희', 'age': 25}]\n",
            "15\n"
          ]
        }
      ]
    },
    {
      "cell_type": "code",
      "source": [
        "def sum(a, b):\n",
        "  print('결과는?: ')\n",
        "  return a + b\n",
        "\n",
        "result = sum(2, 3)\n",
        "result"
      ],
      "metadata": {
        "colab": {
          "base_uri": "https://localhost:8080/"
        },
        "id": "9ai0GRK8ye6d",
        "outputId": "55d64662-aa5d-47c8-b458-0463bca095af"
      },
      "execution_count": 18,
      "outputs": [
        {
          "output_type": "stream",
          "name": "stdout",
          "text": [
            "결과는?: \n"
          ]
        },
        {
          "output_type": "execute_result",
          "data": {
            "text/plain": [
              "5"
            ]
          },
          "metadata": {},
          "execution_count": 18
        }
      ]
    },
    {
      "cell_type": "code",
      "source": [
        "def is_adult(age):\n",
        "  if age > 20:\n",
        "    print('성인')\n",
        "  else:\n",
        "    print('청소년')\n",
        "\n",
        "is_adult(20)\n",
        "is_adult(50)"
      ],
      "metadata": {
        "colab": {
          "base_uri": "https://localhost:8080/"
        },
        "id": "TzfMuQATzgn3",
        "outputId": "9e9d9968-3947-4d30-d911-ee0536f2de57"
      },
      "execution_count": 20,
      "outputs": [
        {
          "output_type": "stream",
          "name": "stdout",
          "text": [
            "청소년\n",
            "성인\n"
          ]
        }
      ]
    },
    {
      "cell_type": "code",
      "source": [
        "ages = [15, 25, 30, 8, 13]\n",
        "\n",
        "for age in ages:\n",
        "  is_adult(age)"
      ],
      "metadata": {
        "colab": {
          "base_uri": "https://localhost:8080/"
        },
        "id": "mBmSH6_Dz2jq",
        "outputId": "68165534-396f-4502-93aa-eba826ea6ac6"
      },
      "execution_count": 22,
      "outputs": [
        {
          "output_type": "stream",
          "name": "stdout",
          "text": [
            "청소년\n",
            "성인\n",
            "성인\n",
            "청소년\n",
            "청소년\n"
          ]
        }
      ]
    },
    {
      "cell_type": "code",
      "source": [
        "!pip install bs4 requests"
      ],
      "metadata": {
        "colab": {
          "base_uri": "https://localhost:8080/"
        },
        "id": "lt1UYsQd03Kw",
        "outputId": "d2615d61-a3e2-4ba9-bed6-952895f79dbe"
      },
      "execution_count": 24,
      "outputs": [
        {
          "output_type": "stream",
          "name": "stdout",
          "text": [
            "Looking in indexes: https://pypi.org/simple, https://us-python.pkg.dev/colab-wheels/public/simple/\n",
            "Requirement already satisfied: bs4 in /usr/local/lib/python3.8/dist-packages (0.0.1)\n",
            "Requirement already satisfied: requests in /usr/local/lib/python3.8/dist-packages (2.25.1)\n",
            "Requirement already satisfied: beautifulsoup4 in /usr/local/lib/python3.8/dist-packages (from bs4) (4.6.3)\n",
            "Requirement already satisfied: idna<3,>=2.5 in /usr/local/lib/python3.8/dist-packages (from requests) (2.10)\n",
            "Requirement already satisfied: chardet<5,>=3.0.2 in /usr/local/lib/python3.8/dist-packages (from requests) (4.0.0)\n",
            "Requirement already satisfied: certifi>=2017.4.17 in /usr/local/lib/python3.8/dist-packages (from requests) (2022.12.7)\n",
            "Requirement already satisfied: urllib3<1.27,>=1.21.1 in /usr/local/lib/python3.8/dist-packages (from requests) (1.24.3)\n"
          ]
        }
      ]
    },
    {
      "cell_type": "code",
      "source": [
        "import requests\n",
        "from bs4 import BeautifulSoup\n",
        "\n",
        "def get_news(keyword):\n",
        "  headers = {'User-Agent' : 'Mozilla/5.0 (Windows NT 10.0; Win64; x64)AppleWebKit/537.36 (KHTML, like Gecko) Chrome/73.0.3683.86 Safari/537.36'}\n",
        "  data = requests.get(f'https://search.naver.com/search.naver?where=news&ie=utf8&sm=nws_hty&query={keyword}',headers=headers)\n",
        "\n",
        "  soup = BeautifulSoup(data.text, 'html.parser')\n",
        "\n",
        "  lis = soup.select('#main_pack > section > div > div.group_news > ul > li')\n",
        "\n",
        "  a = lis[0].select_one('a.news_tit')\n",
        "\n",
        "  for li in lis:\n",
        "    a = li.select_one('a.news_tit')\n",
        "    print(a.text, a['href'])\n",
        "\n",
        "get_news('현대자동차')"
      ],
      "metadata": {
        "colab": {
          "base_uri": "https://localhost:8080/"
        },
        "id": "n3rTNBFZ1kFS",
        "outputId": "9d9e1768-98b9-4da8-d7a3-e7c899692c2d"
      },
      "execution_count": 47,
      "outputs": [
        {
          "output_type": "stream",
          "name": "stdout",
          "text": [
            "신보 \"현대자동차·기아 협력기업에 1500억원 보증 지원\" http://www.wowtv.co.kr/NewsCenter/News/Read?articleId=A202301300064&t=NN\n",
            "현대차그룹 '자동차 본고장' 獨서도 경쟁력 입증… '최고의 수입차' 선정 http://www.kookje.co.kr/news2011/asp/newsbody.asp?code=0200&key=20230130.99099008582\n",
            "\"자동차가 집이 된다\" 현대차그룹이 꿈꾸는 상상 속 모빌리티를 들여다보니 https://hankookilbo.com/News/Read/A2023013015370003431?did=NA\n",
            "자동차가 '알파룸'이 된다…현대차, '모바일 리빙 스페이스' 비전 공개 https://www.asiatime.co.kr/article/20230130500044\n",
            "현대차그룹, 건물과 도킹하는 미래 자동차 공개...경계를 지우다 https://www.khan.co.kr/economy/auto/article/202301301558001\n",
            "현대자동차그룹, 독일 자동차 전문지 '2022 최고의 수입차' 4개 차급 석권 http://www.kdpress.co.kr/news/articleView.html?idxno=117775\n",
            "美 자동차 보험사 \"특정 현대·기아차 모델 보험 제공 안 한다\" https://www.hankyung.com/finance/article/202301301139i\n",
            "신용보증기금·현대자동차·기아, 미래차 산업 대‧중소기업 동반성장 지원 강... http://www.sisaon.co.kr/news/articleView.html?idxno=146944\n",
            "[윌슨컵] '3점슛 14개 대폭발' 현대자동차, 연승 시동걸며 B조 공동 2위로 http://www.rookie.co.kr/news/articleView.html?idxno=82982\n",
            "현대자동차 2022년 영업이익 9조원대 첫 돌파 ‘새역사’ http://www.segye.com/content/html/2023/01/26/20230126513987.html?OutUrl=naver\n"
          ]
        }
      ]
    },
    {
      "cell_type": "code",
      "source": [
        "get_news('SK바이오')"
      ],
      "metadata": {
        "colab": {
          "base_uri": "https://localhost:8080/"
        },
        "id": "S2M8b5THHdnH",
        "outputId": "3bb2276a-c1c2-4ac3-87a2-c85f2ccb6a4a"
      },
      "execution_count": 48,
      "outputs": [
        {
          "output_type": "stream",
          "name": "stdout",
          "text": [
            "[단독]SK바이오사이언스 ‘스카이코비원’, WHO 긴급사용승인 임박 http://www.bloter.net/newsView/blt202301270009\n",
            "SK바이오사이언스 \"백신 개발 노하우, 필요국가에 전수\" http://www.newsis.com/view/?id=NISX20230127_0002171383&cID=10434&pID=13200\n",
            "퇴임 앞둔 원희목 제약바이오협회장…정부에 보내는 메시지는? https://www.asiatime.co.kr/article/20230130500234\n",
            "상승랠리에도 힘 못쓰는 제약·바이오株 http://www.fnnews.com/news/202301291847069441\n",
            "[SR제약&바이오] SK케미칼, MSCI ESG 평가 한단계 상승…A등급 획득 http://www.srtimes.kr/news/articleView.html?idxno=128667\n",
            "코로나 백신 정기접종...SK바사 ‘스카이코비원’ 기사회생할까 http://www.edaily.co.kr/news/newspath.asp?newsid=01338246635482968\n",
            "SK바사, 글로벌 역량강화 행보에 투자자 관심 [Why 바이오] https://www.sedaily.com/NewsView/29KNVLQO84\n",
            "SK바사 “넥스트 팬데믹 함께 대비… 백신 인프라 구축하자” https://www.donga.com/news/Health/article/all/20230129/117647824/1\n",
            "경북 안동·울진·경주에 각 바이오·수소·원자력 국가 산단 조성 추진 https://www.yeongnam.com/web/view.php?key=20230129010003631\n",
            "다올투자 \"SK바이오사이언스 목표주가 하향, 올해 매출 58% 감소 예상\" https://www.businesspost.co.kr/BP?command=article_view&num=304594\n"
          ]
        }
      ]
    }
  ]
}