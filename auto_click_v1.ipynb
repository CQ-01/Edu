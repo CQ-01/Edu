{
 "cells": [
  {
   "cell_type": "code",
   "execution_count": 2,
   "id": "0480a4b3",
   "metadata": {},
   "outputs": [],
   "source": [
    "import pyautogui as pa"
   ]
  },
  {
   "cell_type": "code",
   "execution_count": 48,
   "id": "af96d026",
   "metadata": {},
   "outputs": [
    {
     "data": {
      "text/plain": [
       "Point(x=776, y=611)"
      ]
     },
     "execution_count": 48,
     "metadata": {},
     "output_type": "execute_result"
    }
   ],
   "source": [
    "pa.position()"
   ]
  },
  {
   "cell_type": "code",
   "execution_count": 16,
   "id": "d51a6e42",
   "metadata": {},
   "outputs": [],
   "source": [
    "pa.moveTo(288, 421)\n",
    "pa.click()\n",
    "pa.moveTo(771, 595, 1)\n",
    "pa.click(clicks=5, interval=0.01)"
   ]
  },
  {
   "cell_type": "code",
   "execution_count": 31,
   "id": "31b85fb2",
   "metadata": {},
   "outputs": [],
   "source": [
    "pa.moveTo(288, 421)\n",
    "pa.click()\n",
    "pa.moveTo(856, 597, 1)\n",
    "pa.click(clicks=999, interval=0)"
   ]
  },
  {
   "cell_type": "code",
   "execution_count": 51,
   "id": "badc8e7d",
   "metadata": {},
   "outputs": [],
   "source": [
    "pa.moveTo(288, 421)\n",
    "pa.click()\n",
    "pa.moveTo(776, 611, 1)\n",
    "pa.click(clicks=5000, interval=0.01)"
   ]
  }
 ],
 "metadata": {
  "kernelspec": {
   "display_name": "Python 3 (ipykernel)",
   "language": "python",
   "name": "python3"
  },
  "language_info": {
   "codemirror_mode": {
    "name": "ipython",
    "version": 3
   },
   "file_extension": ".py",
   "mimetype": "text/x-python",
   "name": "python",
   "nbconvert_exporter": "python",
   "pygments_lexer": "ipython3",
   "version": "3.9.13"
  }
 },
 "nbformat": 4,
 "nbformat_minor": 5
}
