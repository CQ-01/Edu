{
 "cells": [
  {
   "cell_type": "code",
   "execution_count": 2,
   "id": "0480a4b3",
   "metadata": {},
   "outputs": [],
   "source": [
    "import pyautogui as pa"
   ]
  },
  {
   "cell_type": "code",
   "execution_count": 3,
   "id": "af96d026",
   "metadata": {},
   "outputs": [
    {
     "data": {
      "text/plain": [
       "Point(x=1093, y=315)"
      ]
     },
     "execution_count": 3,
     "metadata": {},
     "output_type": "execute_result"
    }
   ],
   "source": [
    "pa.position() # 위치 확인"
   ]
  },
  {
   "cell_type": "code",
   "execution_count": 20,
   "id": "c0868c07",
   "metadata": {},
   "outputs": [],
   "source": [
    "pa.moveTo(1093, 315) # 프사 위치\n",
    "pa.click()\n",
    "pa.moveTo(694, 582, 1) # 클릭 위치\n",
    "pa.click(clicks=99, interval=0)"
   ]
  },
  {
   "cell_type": "code",
   "execution_count": 4,
   "id": "84f09e2c",
   "metadata": {},
   "outputs": [
    {
     "data": {
      "text/plain": [
       "Point(x=694, y=568)"
      ]
     },
     "execution_count": 4,
     "metadata": {},
     "output_type": "execute_result"
    }
   ],
   "source": [
    "pa.position() # 공감 위치"
   ]
  }
 ],
 "metadata": {
  "kernelspec": {
   "display_name": "Python 3 (ipykernel)",
   "language": "python",
   "name": "python3"
  },
  "language_info": {
   "codemirror_mode": {
    "name": "ipython",
    "version": 3
   },
   "file_extension": ".py",
   "mimetype": "text/x-python",
   "name": "python",
   "nbconvert_exporter": "python",
   "pygments_lexer": "ipython3",
   "version": "3.9.13"
  }
 },
 "nbformat": 4,
 "nbformat_minor": 5
}
