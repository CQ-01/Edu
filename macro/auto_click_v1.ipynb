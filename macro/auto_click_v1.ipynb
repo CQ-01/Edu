{
 "cells": [
  {
   "cell_type": "code",
   "execution_count": 2,
   "id": "0480a4b3",
   "metadata": {},
   "outputs": [],
   "source": [
    "import pyautogui as pa"
   ]
  },
  {
   "cell_type": "code",
   "execution_count": 6,
   "id": "af96d026",
   "metadata": {},
   "outputs": [
    {
     "data": {
      "text/plain": [
       "Point(x=438, y=300)"
      ]
     },
     "execution_count": 6,
     "metadata": {},
     "output_type": "execute_result"
    }
   ],
   "source": [
    "pa.position()"
   ]
  },
  {
   "cell_type": "code",
   "execution_count": 16,
   "id": "d51a6e42",
   "metadata": {},
   "outputs": [],
   "source": [
    "pa.moveTo(288, 421)\n",
    "pa.click()\n",
    "pa.moveTo(771, 595, 1)\n",
    "pa.click(clicks=5, interval=0.01)"
   ]
  },
  {
   "cell_type": "code",
   "execution_count": 31,
   "id": "31b85fb2",
   "metadata": {},
   "outputs": [],
   "source": [
    "pa.moveTo(288, 421)\n",
    "pa.click()\n",
    "pa.moveTo(856, 597, 1)\n",
    "pa.click(clicks=999, interval=0)"
   ]
  },
  {
   "cell_type": "code",
   "execution_count": 9,
   "id": "c0868c07",
   "metadata": {},
   "outputs": [],
   "source": [
    "pa.moveTo(438, 300) # 프사 위치\n",
    "pa.click()\n",
    "pa.moveTo(982, 577, 1) # 클릭 위치\n",
    "pa.click(clicks=5777, interval=0.01)"
   ]
  },
  {
   "cell_type": "code",
   "execution_count": null,
   "id": "84f09e2c",
   "metadata": {},
   "outputs": [],
   "source": []
  }
 ],
 "metadata": {
  "kernelspec": {
   "display_name": "Python 3 (ipykernel)",
   "language": "python",
   "name": "python3"
  },
  "language_info": {
   "codemirror_mode": {
    "name": "ipython",
    "version": 3
   },
   "file_extension": ".py",
   "mimetype": "text/x-python",
   "name": "python",
   "nbconvert_exporter": "python",
   "pygments_lexer": "ipython3",
   "version": "3.9.13"
  }
 },
 "nbformat": 4,
 "nbformat_minor": 5
}
