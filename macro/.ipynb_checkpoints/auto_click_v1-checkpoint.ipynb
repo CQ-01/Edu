{
 "cells": [
  {
   "cell_type": "code",
   "execution_count": 1,
   "id": "0480a4b3",
   "metadata": {},
   "outputs": [],
   "source": [
    "import pyautogui as pa"
   ]
  },
  {
   "cell_type": "code",
   "execution_count": 3,
   "id": "af96d026",
   "metadata": {},
   "outputs": [
    {
     "data": {
      "text/plain": [
       "Point(x=225, y=266)"
      ]
     },
     "execution_count": 3,
     "metadata": {},
     "output_type": "execute_result"
    }
   ],
   "source": [
    "pa.position() # 프로필 사진 위치"
   ]
  },
  {
   "cell_type": "code",
   "execution_count": 29,
   "id": "c0868c07",
   "metadata": {},
   "outputs": [],
   "source": [
    "pa.moveTo(225, 266) # 프사 위치\n",
    "pa.click()\n",
    "pa.moveTo(817, 404, 1) # 클릭 위치\n",
    "pa.click(clicks=77, interval=0)"
   ]
  },
  {
   "cell_type": "code",
   "execution_count": 5,
   "id": "84f09e2c",
   "metadata": {},
   "outputs": [
    {
     "data": {
      "text/plain": [
       "Point(x=817, y=404)"
      ]
     },
     "execution_count": 5,
     "metadata": {},
     "output_type": "execute_result"
    }
   ],
   "source": [
    "pa.position() # 공감 위치"
   ]
  }
 ],
 "metadata": {
  "kernelspec": {
   "display_name": "Python 3 (ipykernel)",
   "language": "python",
   "name": "python3"
  },
  "language_info": {
   "codemirror_mode": {
    "name": "ipython",
    "version": 3
   },
   "file_extension": ".py",
   "mimetype": "text/x-python",
   "name": "python",
   "nbconvert_exporter": "python",
   "pygments_lexer": "ipython3",
   "version": "3.9.13"
  }
 },
 "nbformat": 4,
 "nbformat_minor": 5
}
