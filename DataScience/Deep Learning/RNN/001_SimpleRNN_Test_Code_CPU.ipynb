{
  "nbformat": 4,
  "nbformat_minor": 0,
  "metadata": {
    "colab": {
      "provenance": []
    },
    "kernelspec": {
      "name": "python3",
      "display_name": "Python 3"
    }
  },
  "cells": [
    {
      "cell_type": "markdown",
      "metadata": {
        "id": "tkemTfz3W_Gi"
      },
      "source": [
        "# SimpleRNN Test Code"
      ]
    },
    {
      "cell_type": "code",
      "metadata": {
        "id": "RbPgODpVzdHI"
      },
      "source": [
        "import warnings\n",
        "warnings.filterwarnings('ignore')"
      ],
      "execution_count": null,
      "outputs": []
    },
    {
      "cell_type": "markdown",
      "metadata": {
        "id": "Eo5KBp-nyU-R"
      },
      "source": [
        "> ## Import Packages"
      ]
    },
    {
      "cell_type": "code",
      "metadata": {
        "id": "TwaPRMasmzkR"
      },
      "source": [
        "import numpy as np\n",
        "import matplotlib.pyplot as plt"
      ],
      "execution_count": null,
      "outputs": []
    },
    {
      "cell_type": "markdown",
      "metadata": {
        "id": "NBh49fKTXjYm"
      },
      "source": [
        "# I. SimpleRNN - without Normalization"
      ]
    },
    {
      "cell_type": "markdown",
      "metadata": {
        "id": "6Vo9X1J0Xr5w"
      },
      "source": [
        "> ## 1) Sample Data"
      ]
    },
    {
      "cell_type": "markdown",
      "metadata": {
        "id": "-sxOSU7zVcpI"
      },
      "source": [
        "* Inputs 데이터 생성(100, 5, 1)"
      ]
    },
    {
      "cell_type": "code",
      "metadata": {
        "id": "N7g_fKvum6zg",
        "colab": {
          "base_uri": "https://localhost:8080/"
        },
        "outputId": "e785c735-272b-4435-9858-301a7ee979ed"
      },
      "source": [
        "X = [[[i + j] for i in range(5)] for j in range(100)]\n",
        "\n",
        "X[:3], X[-3:]"
      ],
      "execution_count": null,
      "outputs": [
        {
          "output_type": "execute_result",
          "data": {
            "text/plain": [
              "([[[0], [1], [2], [3], [4]],\n",
              "  [[1], [2], [3], [4], [5]],\n",
              "  [[2], [3], [4], [5], [6]]],\n",
              " [[[97], [98], [99], [100], [101]],\n",
              "  [[98], [99], [100], [101], [102]],\n",
              "  [[99], [100], [101], [102], [103]]])"
            ]
          },
          "metadata": {},
          "execution_count": 3
        }
      ]
    },
    {
      "cell_type": "markdown",
      "metadata": {
        "id": "mAeCUO3JVelB"
      },
      "source": [
        "* Outputs 데이터 생성(100, 1)"
      ]
    },
    {
      "cell_type": "code",
      "metadata": {
        "id": "HR_yI8rYnEML",
        "colab": {
          "base_uri": "https://localhost:8080/"
        },
        "outputId": "62823bb5-fc0c-43a2-f653-a642b4f3f9b6"
      },
      "source": [
        "y = [(i + 5) for i in range(100)]\n",
        "\n",
        "y[:3], y[-3:]"
      ],
      "execution_count": null,
      "outputs": [
        {
          "output_type": "execute_result",
          "data": {
            "text/plain": [
              "([5, 6, 7], [102, 103, 104])"
            ]
          },
          "metadata": {},
          "execution_count": 4
        }
      ]
    },
    {
      "cell_type": "markdown",
      "metadata": {
        "id": "B3dYsrZOXvv2"
      },
      "source": [
        "> ## 2) numpy_Array Casting"
      ]
    },
    {
      "cell_type": "code",
      "metadata": {
        "id": "dnE9lNpqnF88",
        "colab": {
          "base_uri": "https://localhost:8080/"
        },
        "outputId": "7245b0ef-dc92-4303-fd5d-3634f9172279"
      },
      "source": [
        "X = np.array(X, dtype = float)\n",
        "y = np.array(y, dtype = float)\n",
        "\n",
        "X.shape, y.shape"
      ],
      "execution_count": null,
      "outputs": [
        {
          "output_type": "execute_result",
          "data": {
            "text/plain": [
              "((100, 5, 1), (100,))"
            ]
          },
          "metadata": {},
          "execution_count": 5
        }
      ]
    },
    {
      "cell_type": "markdown",
      "metadata": {
        "id": "V1ZhEfMKX4Q9"
      },
      "source": [
        "> ## 3) Train vs. Test Split\n",
        "\n",
        "* 80:20"
      ]
    },
    {
      "cell_type": "code",
      "metadata": {
        "id": "C9LWIycfnNVX",
        "colab": {
          "base_uri": "https://localhost:8080/"
        },
        "outputId": "41ad8b1f-4165-4f6d-a57d-dd9f40594d22"
      },
      "source": [
        "from sklearn.model_selection import train_test_split\n",
        "\n",
        "X_train, X_test, y_train, y_test = train_test_split(X, y, \n",
        "                                                    test_size = 0.2, \n",
        "                                                    random_state = 2045)\n",
        "\n",
        "X_train.shape, y_train.shape, X_test.shape, y_test.shape"
      ],
      "execution_count": null,
      "outputs": [
        {
          "output_type": "execute_result",
          "data": {
            "text/plain": [
              "((80, 5, 1), (80,), (20, 5, 1), (20,))"
            ]
          },
          "metadata": {},
          "execution_count": 6
        }
      ]
    },
    {
      "cell_type": "markdown",
      "metadata": {
        "id": "WMBdgjGjYCeu"
      },
      "source": [
        "> ## 4) Keras SimpleRNN Modeling"
      ]
    },
    {
      "cell_type": "markdown",
      "metadata": {
        "id": "BPs3K2QuWd22"
      },
      "source": [
        "### (1) Model Define & Summary\n",
        "* Unit(output_dim) : 3\n",
        "* input_shape(input_lenght, input_dim) : (5, 1)\n",
        "* return_sequences = False : 최종 Unit만 출력\n",
        "* layers.Dense(1) : y_hat\n"
      ]
    },
    {
      "cell_type": "code",
      "metadata": {
        "id": "82kOjSL0nRys",
        "colab": {
          "base_uri": "https://localhost:8080/"
        },
        "outputId": "b6cf8867-3603-45ca-fa01-037f853056e2"
      },
      "source": [
        "from tensorflow.keras import models, layers\n",
        "\n",
        "model_1 = models.Sequential(name = 'SimpleRNN_1')\n",
        "model_1.add(layers.SimpleRNN(3,\n",
        "                             input_shape = (5, 1), \n",
        "                             return_sequences = False))\n",
        "model_1.add(layers.Dense(1))\n",
        "\n",
        "model_1.summary()"
      ],
      "execution_count": null,
      "outputs": [
        {
          "output_type": "stream",
          "name": "stdout",
          "text": [
            "Model: \"SimpleRNN_1\"\n",
            "_________________________________________________________________\n",
            " Layer (type)                Output Shape              Param #   \n",
            "=================================================================\n",
            " simple_rnn (SimpleRNN)      (None, 3)                 15        \n",
            "                                                                 \n",
            " dense (Dense)               (None, 1)                 4         \n",
            "                                                                 \n",
            "=================================================================\n",
            "Total params: 19\n",
            "Trainable params: 19\n",
            "Non-trainable params: 0\n",
            "_________________________________________________________________\n"
          ]
        }
      ]
    },
    {
      "cell_type": "markdown",
      "metadata": {
        "id": "_9psJ9flW_-p"
      },
      "source": [
        "### (2) Model Compile"
      ]
    },
    {
      "cell_type": "code",
      "metadata": {
        "id": "W9uS8PVhn5jf"
      },
      "source": [
        "model_1.compile(loss = 'mse', \n",
        "                optimizer = 'adam', \n",
        "                metrics = ['mae'])"
      ],
      "execution_count": null,
      "outputs": []
    },
    {
      "cell_type": "markdown",
      "metadata": {
        "id": "KbsrGbhVXKIL"
      },
      "source": [
        "### (3) Model Fit"
      ]
    },
    {
      "cell_type": "code",
      "metadata": {
        "id": "P6ngOaHmn8eD"
      },
      "source": [
        "Hist_1 = model_1.fit(X_train, y_train,\n",
        "                     epochs = 100,\n",
        "                     batch_size = 8,\n",
        "                     validation_data = (X_test, y_test), \n",
        "                     verbose = 0)"
      ],
      "execution_count": null,
      "outputs": []
    },
    {
      "cell_type": "markdown",
      "metadata": {
        "id": "x6vJTt5uXZA4"
      },
      "source": [
        "### (4) Model Predict"
      ]
    },
    {
      "cell_type": "code",
      "metadata": {
        "id": "lDWmmJ4-oBBA"
      },
      "source": [
        "y_hat = model_1.predict(X_test, verbose = 0)"
      ],
      "execution_count": null,
      "outputs": []
    },
    {
      "cell_type": "markdown",
      "metadata": {
        "id": "4RtFt5o2Xf0l"
      },
      "source": [
        "### (5) 학습 결과 시각화\n",
        "\n",
        "* Loss 감소"
      ]
    },
    {
      "cell_type": "code",
      "metadata": {
        "id": "aJlzed81oJ6C",
        "colab": {
          "base_uri": "https://localhost:8080/"
        },
        "outputId": "da8b37b4-8a65-47f6-91d7-d14e8d51b83c"
      },
      "source": [
        "plt.plot(Hist_1.history['loss'])\n",
        "plt.show()"
      ],
      "execution_count": null,
      "outputs": [
        {
          "output_type": "display_data",
          "data": {
            "text/plain": [
              "<Figure size 432x288 with 1 Axes>"
            ],
            "image/png": "[encoded data removed]"
          },
          "metadata": {
            "needs_background": "light"
          }
        }
      ]
    },
    {
      "cell_type": "markdown",
      "metadata": {
        "id": "igordmx1ol1T"
      },
      "source": [
        "* 학습 되지 않음\n",
        " * 녹색 -> 정답(y_test)\n",
        " * 적색 -> 예측(y_hat)"
      ]
    },
    {
      "cell_type": "code",
      "metadata": {
        "id": "hp4i845-oFN-",
        "colab": {
          "base_uri": "https://localhost:8080/"
        },
        "outputId": "83b4dc8f-3a74-4344-dc0a-7f968c25a1d4"
      },
      "source": [
        "plt.scatter(range(20), y_test, c = 'g')\n",
        "plt.scatter(range(20), y_hat, c = 'r')\n",
        "plt.show()"
      ],
      "execution_count": null,
      "outputs": [
        {
          "output_type": "display_data",
          "data": {
            "text/plain": [
              "<Figure size 432x288 with 1 Axes>"
            ],
            "image/png": "[encoded data removed]"
          },
          "metadata": {
            "needs_background": "light"
          }
        }
      ]
    },
    {
      "cell_type": "markdown",
      "metadata": {
        "id": "Iil7fEZioLfa"
      },
      "source": [
        "# II. SimpleRNN - with Normalization"
      ]
    },
    {
      "cell_type": "markdown",
      "metadata": {
        "id": "EbtJIiBGXzwq"
      },
      "source": [
        "> ## 1) Sample Data - with Normalization"
      ]
    },
    {
      "cell_type": "code",
      "metadata": {
        "id": "38nYJQMMoKi9"
      },
      "source": [
        "X = [[[(i + j)] for i in range(5)] for j in range(100)]\n",
        "y = [(i + 5) for i in range(100)]\n",
        "\n",
        "X = (X - np.min(X)) / (np.max(X) - np.min(X))\n",
        "y = (y - np.min(y)) / (np.max(y) - np.min(y))"
      ],
      "execution_count": null,
      "outputs": []
    },
    {
      "cell_type": "markdown",
      "metadata": {
        "id": "nhSmCp9XX576"
      },
      "source": [
        "> ## 2) Casting"
      ]
    },
    {
      "cell_type": "code",
      "metadata": {
        "id": "da_SQ_33oQVd",
        "colab": {
          "base_uri": "https://localhost:8080/"
        },
        "outputId": "9ec0e18b-938a-4fb7-8638-d66737a60f2b"
      },
      "source": [
        "X = np.array(X, dtype = float)\n",
        "y = np.array(y, dtype = float)\n",
        "\n",
        "X.shape, y.shape"
      ],
      "execution_count": null,
      "outputs": [
        {
          "output_type": "execute_result",
          "data": {
            "text/plain": [
              "((100, 5, 1), (100,))"
            ]
          },
          "metadata": {},
          "execution_count": 14
        }
      ]
    },
    {
      "cell_type": "markdown",
      "metadata": {
        "id": "kgNmkRIYYEKb"
      },
      "source": [
        "> ## 3) Train vs. Test Split"
      ]
    },
    {
      "cell_type": "code",
      "metadata": {
        "id": "JTTFoM3moV1v",
        "colab": {
          "base_uri": "https://localhost:8080/"
        },
        "outputId": "fd9c3f3b-f057-482d-e47c-bda831232f72"
      },
      "source": [
        "X_train, X_test, y_train, y_test = train_test_split(X, y, \n",
        "                                                    test_size = 0.2, \n",
        "                                                    random_state = 2045)\n",
        "\n",
        "X_train.shape, y_train.shape, X_test.shape, y_test.shape"
      ],
      "execution_count": null,
      "outputs": [
        {
          "output_type": "execute_result",
          "data": {
            "text/plain": [
              "((80, 5, 1), (80,), (20, 5, 1), (20,))"
            ]
          },
          "metadata": {},
          "execution_count": 15
        }
      ]
    },
    {
      "cell_type": "markdown",
      "metadata": {
        "id": "1IwlEXGSYJdK"
      },
      "source": [
        "> ## 4) Keras SimpleRNN Modeling"
      ]
    },
    {
      "cell_type": "markdown",
      "metadata": {
        "id": "N8GJwNBgptDM"
      },
      "source": [
        "### (1) Model Define & Summary\n",
        "* None : input_length 자동 맞춤\n"
      ]
    },
    {
      "cell_type": "code",
      "metadata": {
        "id": "C-8rlTxxoaJE",
        "colab": {
          "base_uri": "https://localhost:8080/"
        },
        "outputId": "1b186ee6-798a-419e-9948-26ff847b9916"
      },
      "source": [
        "model_2 = models.Sequential(name = 'SimpleRNN_2')\n",
        "model_2.add(layers.SimpleRNN(3,\n",
        "                             input_shape = (None, 1), \n",
        "                             return_sequences = False))\n",
        "model_2.add(layers.Dense(1))\n",
        "\n",
        "model_2.summary()"
      ],
      "execution_count": null,
      "outputs": [
        {
          "output_type": "stream",
          "name": "stdout",
          "text": [
            "Model: \"SimpleRNN_2\"\n",
            "_________________________________________________________________\n",
            " Layer (type)                Output Shape              Param #   \n",
            "=================================================================\n",
            " simple_rnn_1 (SimpleRNN)    (None, 3)                 15        \n",
            "                                                                 \n",
            " dense_1 (Dense)             (None, 1)                 4         \n",
            "                                                                 \n",
            "=================================================================\n",
            "Total params: 19\n",
            "Trainable params: 19\n",
            "Non-trainable params: 0\n",
            "_________________________________________________________________\n"
          ]
        }
      ]
    },
    {
      "cell_type": "markdown",
      "metadata": {
        "id": "cLo0GvICp4iA"
      },
      "source": [
        "### (2) Model Compile"
      ]
    },
    {
      "cell_type": "code",
      "metadata": {
        "id": "nKX3lA1SosIL"
      },
      "source": [
        "model_2.compile(loss = 'mse', \n",
        "                optimizer = 'adam', \n",
        "                metrics = ['mae'])"
      ],
      "execution_count": null,
      "outputs": []
    },
    {
      "cell_type": "markdown",
      "metadata": {
        "id": "W72kWHErp7Mx"
      },
      "source": [
        "### (3) Model Fit"
      ]
    },
    {
      "cell_type": "code",
      "metadata": {
        "id": "1C9e6JlYoiUf"
      },
      "source": [
        "Hist_2 = model_2.fit(X_train, y_train, \n",
        "                     epochs = 100,\n",
        "                     batch_size = 8,\n",
        "                     validation_data = (X_test, y_test), \n",
        "                     verbose = 0)"
      ],
      "execution_count": null,
      "outputs": []
    },
    {
      "cell_type": "markdown",
      "metadata": {
        "id": "vtUFTIb6p-vQ"
      },
      "source": [
        "### (4) Model Predict"
      ]
    },
    {
      "cell_type": "code",
      "metadata": {
        "id": "P0PGQvJIov8o"
      },
      "source": [
        "y_hat = model_2.predict(X_test, verbose = 0)"
      ],
      "execution_count": null,
      "outputs": []
    },
    {
      "cell_type": "markdown",
      "metadata": {
        "id": "EQmRmny1qCX_"
      },
      "source": [
        "### (5) 학습 결과 시각화\n",
        "\n",
        "* Loss 감소"
      ]
    },
    {
      "cell_type": "code",
      "metadata": {
        "id": "I6KIURV8o1jt",
        "colab": {
          "base_uri": "https://localhost:8080/"
        },
        "outputId": "93084d25-7f95-4489-db5b-3a732b698475"
      },
      "source": [
        "plt.plot(Hist_2.history['loss'])\n",
        "plt.show()"
      ],
      "execution_count": null,
      "outputs": [
        {
          "output_type": "display_data",
          "data": {
            "text/plain": [
              "<Figure size 432x288 with 1 Axes>"
            ],
            "image/png": "[encoded data removed]"
          },
          "metadata": {
            "needs_background": "light"
          }
        }
      ]
    },
    {
      "cell_type": "markdown",
      "metadata": {
        "id": "G3R1LbLzqOjA"
      },
      "source": [
        "* 학습 진행\n",
        " * 녹색 -> 정답(y_test)\n",
        " * 적색 -> 예측(y_hat)"
      ]
    },
    {
      "cell_type": "code",
      "metadata": {
        "id": "Aq_r-86kqIWb",
        "colab": {
          "base_uri": "https://localhost:8080/"
        },
        "outputId": "bdacccd0-5049-4b85-e9eb-a557b6fb8475"
      },
      "source": [
        "plt.scatter(range(20), y_test, c = 'g')\n",
        "plt.scatter(range(20), y_hat, c = 'r')\n",
        "plt.show()"
      ],
      "execution_count": null,
      "outputs": [
        {
          "output_type": "display_data",
          "data": {
            "text/plain": [
              "<Figure size 432x288 with 1 Axes>"
            ],
            "image/png": "[encoded data removed]"
          },
          "metadata": {
            "needs_background": "light"
          }
        }
      ]
    },
    {
      "cell_type": "markdown",
      "metadata": {
        "id": "VJ7ijEqqgl6B"
      },
      "source": [
        "# III. Stacked_SimpleRNN"
      ]
    },
    {
      "cell_type": "markdown",
      "metadata": {
        "id": "oie2td6Ei-AO"
      },
      "source": [
        "> ## 1) Model Define & Summary\n",
        "\n",
        "* return_sequences = True"
      ]
    },
    {
      "cell_type": "code",
      "metadata": {
        "id": "MfbNXdNajxXa",
        "colab": {
          "base_uri": "https://localhost:8080/"
        },
        "outputId": "ddac8cb9-e420-4270-cdae-b42f7f624466"
      },
      "source": [
        "model_3 = models.Sequential(name = 'Stackd_RNN')\n",
        "model_3.add(layers.SimpleRNN(3,\n",
        "                             input_shape = (None, 1), \n",
        "                             return_sequences = True))\n",
        "model_3.add(layers.SimpleRNN(3,\n",
        "                             input_shape = (None, 1),\n",
        "                             return_sequences = False))\n",
        "model_3.add(layers.Dense(1))\n",
        "\n",
        "model_3.summary()"
      ],
      "execution_count": null,
      "outputs": [
        {
          "output_type": "stream",
          "name": "stdout",
          "text": [
            "Model: \"Stackd_RNN\"\n",
            "_________________________________________________________________\n",
            " Layer (type)                Output Shape              Param #   \n",
            "=================================================================\n",
            " simple_rnn_2 (SimpleRNN)    (None, None, 3)           15        \n",
            "                                                                 \n",
            " simple_rnn_3 (SimpleRNN)    (None, 3)                 21        \n",
            "                                                                 \n",
            " dense_2 (Dense)             (None, 1)                 4         \n",
            "                                                                 \n",
            "=================================================================\n",
            "Total params: 40\n",
            "Trainable params: 40\n",
            "Non-trainable params: 0\n",
            "_________________________________________________________________\n"
          ]
        }
      ]
    },
    {
      "cell_type": "markdown",
      "metadata": {
        "id": "-Lfl3QLmjFSK"
      },
      "source": [
        "> ## 2) Model Compile"
      ]
    },
    {
      "cell_type": "code",
      "metadata": {
        "id": "6J_FOg6_kZST"
      },
      "source": [
        "model_3.compile(loss = 'mse', \n",
        "                optimizer = 'adam', \n",
        "                metrics = ['mae'])"
      ],
      "execution_count": null,
      "outputs": []
    },
    {
      "cell_type": "markdown",
      "metadata": {
        "id": "hpGna-L2jJE-"
      },
      "source": [
        "> ## 3) Model Fit"
      ]
    },
    {
      "cell_type": "code",
      "metadata": {
        "id": "5qI-xcEkkal5"
      },
      "source": [
        "Hist_3 = model_3.fit(X_train, y_train, \n",
        "                     epochs = 100,\n",
        "                     batch_size = 8,\n",
        "                     validation_data = (X_test, y_test), \n",
        "                     verbose = 0)"
      ],
      "execution_count": null,
      "outputs": []
    },
    {
      "cell_type": "markdown",
      "metadata": {
        "id": "93mMvgRHjN77"
      },
      "source": [
        "> ## 4) Model Predict"
      ]
    },
    {
      "cell_type": "code",
      "metadata": {
        "id": "IuzyIFm7jbBN"
      },
      "source": [
        "y_hat = model_3.predict(X_test, verbose = 0)"
      ],
      "execution_count": null,
      "outputs": []
    },
    {
      "cell_type": "markdown",
      "metadata": {
        "id": "yxAPoF1sjf9P"
      },
      "source": [
        "> ## 5) 학습 결과 시각화"
      ]
    },
    {
      "cell_type": "code",
      "metadata": {
        "id": "W2a8Lq6fk_Oc",
        "colab": {
          "base_uri": "https://localhost:8080/"
        },
        "outputId": "82e30597-888c-48a5-c258-b3ecbcccc137"
      },
      "source": [
        "plt.plot(Hist_3.history['loss'])\n",
        "plt.show()"
      ],
      "execution_count": null,
      "outputs": [
        {
          "output_type": "display_data",
          "data": {
            "text/plain": [
              "<Figure size 432x288 with 1 Axes>"
            ],
            "image/png": "[encoded data removed]"
          },
          "metadata": {
            "needs_background": "light"
          }
        }
      ]
    },
    {
      "cell_type": "code",
      "metadata": {
        "id": "q9QNepCBkkLn",
        "colab": {
          "base_uri": "https://localhost:8080/"
        },
        "outputId": "cf4fd15d-761e-470f-cf12-361f8318b5b5"
      },
      "source": [
        "plt.scatter(range(20), y_test, c = 'g')\n",
        "plt.scatter(range(20), y_hat, c = 'r')\n",
        "plt.show()"
      ],
      "execution_count": null,
      "outputs": [
        {
          "output_type": "display_data",
          "data": {
            "text/plain": [
              "<Figure size 432x288 with 1 Axes>"
            ],
            "image/png": "[encoded data removed]"
          },
          "metadata": {
            "needs_background": "light"
          }
        }
      ]
    },
    {
      "cell_type": "markdown",
      "metadata": {
        "id": "G2M60R98ZZPn"
      },
      "source": [
        "# IV. '<font color = 'red'>return_sequences</font>' Output_Options\n",
        "\n",
        "* '<font color = 'red'>input_length</font>'에 대한 Sequance 전체를 출력할지 설정\n",
        " - Sequence: Hidden State\n",
        " - 'False' vs. 'True'"
      ]
    },
    {
      "cell_type": "markdown",
      "metadata": {
        "id": "mprXXUoywT0X"
      },
      "source": [
        "> ## 1) 실습데이터 생성"
      ]
    },
    {
      "cell_type": "code",
      "metadata": {
        "id": "uLLYxQske_ZT"
      },
      "source": [
        "X = [[[i + j] for i in range(5)] for j in range(100)]\n",
        "y = [i + 5 for i in range(100)]"
      ],
      "execution_count": null,
      "outputs": []
    },
    {
      "cell_type": "code",
      "metadata": {
        "id": "u2n8GAQufLxo"
      },
      "source": [
        "X = np.array(X, dtype = float)\n",
        "y = np.array(y, dtype = float)"
      ],
      "execution_count": null,
      "outputs": []
    },
    {
      "cell_type": "code",
      "metadata": {
        "id": "qhMKmZsifTCT",
        "colab": {
          "base_uri": "https://localhost:8080/"
        },
        "outputId": "d4fc60af-6409-4cbb-84e6-1aee61c08789"
      },
      "source": [
        "X_train, X_test, y_train, y_test = train_test_split(X, y, \n",
        "                                                    test_size = 0.2, \n",
        "                                                    random_state = 2045)\n",
        "\n",
        "X_train.shape, y_train.shape, X_test.shape, y_test.shape"
      ],
      "execution_count": null,
      "outputs": [
        {
          "output_type": "execute_result",
          "data": {
            "text/plain": [
              "((80, 5, 1), (80,), (20, 5, 1), (20,))"
            ]
          },
          "metadata": {},
          "execution_count": 30
        }
      ]
    },
    {
      "cell_type": "markdown",
      "metadata": {
        "id": "xCmEpsb_4PWF"
      },
      "source": [
        "> ## 2) 테스트용 Input Data"
      ]
    },
    {
      "cell_type": "code",
      "metadata": {
        "id": "iQR77PFbhMTA",
        "colab": {
          "base_uri": "https://localhost:8080/"
        },
        "outputId": "1e959d7a-60e4-4c77-f2c2-f916fcb74b17"
      },
      "source": [
        "X_test[0].reshape(1, 5, 1)"
      ],
      "execution_count": null,
      "outputs": [
        {
          "output_type": "execute_result",
          "data": {
            "text/plain": [
              "array([[[29.],\n",
              "        [30.],\n",
              "        [31.],\n",
              "        [32.],\n",
              "        [33.]]])"
            ]
          },
          "metadata": {},
          "execution_count": 31
        }
      ]
    },
    {
      "cell_type": "markdown",
      "metadata": {
        "id": "CIeeaylpfVKG"
      },
      "source": [
        "> ## 3) <font color = 'blue'>False</font>_Option\n",
        "\n",
        "* 마지막 Output만 출력\n",
        " * <font color = 'red'>Unit -> 1"
      ]
    },
    {
      "cell_type": "code",
      "metadata": {
        "id": "dePbSccIfUEh"
      },
      "source": [
        "Model_False = models.Sequential()\n",
        "Model_False.add(layers.SimpleRNN(1,\n",
        "                                 input_shape = (5, 1), \n",
        "                                 return_sequences = False))\n",
        "\n",
        "Model_False.compile(loss = 'mse',\n",
        "                    optimizer = 'adam',\n",
        "                    metrics = ['mae'])"
      ],
      "execution_count": null,
      "outputs": []
    },
    {
      "cell_type": "markdown",
      "source": [
        "* <font color = 'red'>Output 1개"
      ],
      "metadata": {
        "id": "M3JmxoY1k-dw"
      }
    },
    {
      "cell_type": "code",
      "metadata": {
        "id": "-czneGosjJVh",
        "colab": {
          "base_uri": "https://localhost:8080/"
        },
        "outputId": "c1fd348b-f5b4-4ada-8f09-23003e8e21d9"
      },
      "source": [
        "Model_False.predict(X_test[0].reshape(1, 5, 1), verbose = 0)"
      ],
      "execution_count": null,
      "outputs": [
        {
          "output_type": "execute_result",
          "data": {
            "text/plain": [
              "array([[1.]], dtype=float32)"
            ]
          },
          "metadata": {},
          "execution_count": 33
        }
      ]
    },
    {
      "cell_type": "markdown",
      "metadata": {
        "id": "o2ovVPe0gUFw"
      },
      "source": [
        "* 마지막 Output만 출력\n",
        " * <font color = 'red'>Unit -> 3"
      ]
    },
    {
      "cell_type": "code",
      "metadata": {
        "id": "JNnQiubCgPF6"
      },
      "source": [
        "Model_False = models.Sequential()\n",
        "Model_False.add(layers.SimpleRNN(3,\n",
        "                                 input_shape = (5, 1), \n",
        "                                 return_sequences = False))\n",
        "\n",
        "Model_False.compile(loss = 'mse',\n",
        "                    optimizer = 'adam',\n",
        "                    metrics = ['mae'])"
      ],
      "execution_count": null,
      "outputs": []
    },
    {
      "cell_type": "markdown",
      "source": [
        "* <font color = 'red'>Output 1개(3개 Unit)"
      ],
      "metadata": {
        "id": "hTwtSxGolRwa"
      }
    },
    {
      "cell_type": "code",
      "metadata": {
        "id": "--eBUtESgReA",
        "colab": {
          "base_uri": "https://localhost:8080/"
        },
        "outputId": "84bb63fe-4aa3-47bc-f8ea-b6fa0f989570"
      },
      "source": [
        "Model_False.predict(X_test[0].reshape(1, 5, 1), verbose = 0)"
      ],
      "execution_count": null,
      "outputs": [
        {
          "output_type": "stream",
          "name": "stderr",
          "text": [
            "WARNING:tensorflow:5 out of the last 5 calls to <function Model.make_predict_function.<locals>.predict_function at 0x7f5aa00e6790> triggered tf.function retracing. Tracing is expensive and the excessive number of tracings could be due to (1) creating @tf.function repeatedly in a loop, (2) passing tensors with different shapes, (3) passing Python objects instead of tensors. For (1), please define your @tf.function outside of the loop. For (2), @tf.function has reduce_retracing=True option that can avoid unnecessary retracing. For (3), please refer to https://www.tensorflow.org/guide/function#controlling_retracing and https://www.tensorflow.org/api_docs/python/tf/function for  more details.\n"
          ]
        },
        {
          "output_type": "execute_result",
          "data": {
            "text/plain": [
              "array([[ 1.       ,  0.9999929, -1.       ]], dtype=float32)"
            ]
          },
          "metadata": {},
          "execution_count": 35
        }
      ]
    },
    {
      "cell_type": "markdown",
      "metadata": {
        "id": "zKTm2w-8hef7"
      },
      "source": [
        "> ## 4) <font color = 'blue'>True</font>_Option\n",
        "\n",
        "* 매 순환마다 Output 출력\n",
        " * Unit -> 1\n",
        " * <font color = 'red'>input_length -> 5"
      ]
    },
    {
      "cell_type": "code",
      "metadata": {
        "id": "U7UHNzHthj0T"
      },
      "source": [
        "Model_True = models.Sequential()\n",
        "Model_True.add(layers.SimpleRNN(1,\n",
        "                                input_shape = (5, 1), \n",
        "                                return_sequences = True))\n",
        "\n",
        "Model_True.compile(loss = 'mse',\n",
        "                   optimizer = 'adam',\n",
        "                   metrics = ['mae'])"
      ],
      "execution_count": null,
      "outputs": []
    },
    {
      "cell_type": "markdown",
      "source": [
        "* <font color = 'red'>Output 5개(Hidden State)"
      ],
      "metadata": {
        "id": "dm09WrQUld-e"
      }
    },
    {
      "cell_type": "code",
      "metadata": {
        "id": "6iZqeMYikZWz",
        "colab": {
          "base_uri": "https://localhost:8080/"
        },
        "outputId": "b6ed7a41-d2a4-429d-bb2f-f5f0db6715c8"
      },
      "source": [
        "Model_True.predict(X_test[0].reshape(1, 5, 1), verbose = 0)"
      ],
      "execution_count": null,
      "outputs": [
        {
          "output_type": "stream",
          "name": "stderr",
          "text": [
            "WARNING:tensorflow:6 out of the last 6 calls to <function Model.make_predict_function.<locals>.predict_function at 0x7f5aa005b280> triggered tf.function retracing. Tracing is expensive and the excessive number of tracings could be due to (1) creating @tf.function repeatedly in a loop, (2) passing tensors with different shapes, (3) passing Python objects instead of tensors. For (1), please define your @tf.function outside of the loop. For (2), @tf.function has reduce_retracing=True option that can avoid unnecessary retracing. For (3), please refer to https://www.tensorflow.org/guide/function#controlling_retracing and https://www.tensorflow.org/api_docs/python/tf/function for  more details.\n"
          ]
        },
        {
          "output_type": "execute_result",
          "data": {
            "text/plain": [
              "array([[[-1.],\n",
              "        [-1.],\n",
              "        [-1.],\n",
              "        [-1.],\n",
              "        [-1.]]], dtype=float32)"
            ]
          },
          "metadata": {},
          "execution_count": 37
        }
      ]
    },
    {
      "cell_type": "markdown",
      "metadata": {
        "id": "tRRkCzOfgxLo"
      },
      "source": [
        "* 매 순환마다 Output만 출력\n",
        " * Unit -> 3\n",
        " * <font color = 'red'>input_length -> 5"
      ]
    },
    {
      "cell_type": "code",
      "metadata": {
        "id": "gXC1HDTeg2xJ"
      },
      "source": [
        "Model_True = models.Sequential()\n",
        "Model_True.add(layers.SimpleRNN(3,\n",
        "                                input_shape = (5, 1), \n",
        "                                return_sequences = True))\n",
        "\n",
        "Model_True.compile(loss = 'mse',\n",
        "                   optimizer = 'adam',\n",
        "                   metrics = ['mae'])"
      ],
      "execution_count": null,
      "outputs": []
    },
    {
      "cell_type": "markdown",
      "source": [
        "* <font color = 'red'>Output 5개(Hidden State)"
      ],
      "metadata": {
        "id": "_5Ep5rQBlwl5"
      }
    },
    {
      "cell_type": "code",
      "metadata": {
        "id": "GX529sG0g9uj",
        "colab": {
          "base_uri": "https://localhost:8080/"
        },
        "outputId": "6b9a5e37-d752-41e4-96c5-37e9c13c808c"
      },
      "source": [
        "Model_True.predict(X_test[0].reshape(1, 5, 1), verbose = 0)"
      ],
      "execution_count": null,
      "outputs": [
        {
          "output_type": "execute_result",
          "data": {
            "text/plain": [
              "array([[[ 0.99999774,  1.        , -1.        ],\n",
              "        [ 1.        ,  1.        , -1.        ],\n",
              "        [ 1.        ,  1.        , -1.        ],\n",
              "        [ 1.        ,  1.        , -1.        ],\n",
              "        [ 1.        ,  1.        , -1.        ]]], dtype=float32)"
            ]
          },
          "metadata": {},
          "execution_count": 39
        }
      ]
    },
    {
      "cell_type": "markdown",
      "metadata": {
        "id": "yUHpTohzaVYl"
      },
      "source": [
        "# \n",
        "# \n",
        "# \n",
        "# The End\n",
        "# \n",
        "# \n",
        "# "
      ]
    }
  ]
}